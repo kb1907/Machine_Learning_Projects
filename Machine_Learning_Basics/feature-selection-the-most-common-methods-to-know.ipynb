{
 "cells": [
  {
   "cell_type": "markdown",
   "id": "558b8d81",
   "metadata": {
    "papermill": {
     "duration": 0.051844,
     "end_time": "2021-09-23T16:27:56.813706",
     "exception": false,
     "start_time": "2021-09-23T16:27:56.761862",
     "status": "completed"
    },
    "tags": []
   },
   "source": [
    "#### Hi all.  🙋\n",
    "\n",
    "#### We continue our **Beginner-Intermediate Friendly Machine Learning series**, which would help anyone who wants to learn or refresh the basics of ML.\n",
    "\n",
    "#### What we have covered: \n",
    "\n",
    "#### [Beginner Friendly Detailed Explained EDAs – For anyone at the beginnings of DS/ML journey](https://www.kaggle.com/general/253911#1393015) ✔️\n",
    "\n",
    "#### [BIAS & VARIANCE TRADEOFF](https://www.kaggle.com/kaanboke/ml-basics-bias-variance-tradeoff) ✔️\n",
    "\n",
    "#### [LINEAR ALGORITHMS](https://www.kaggle.com/kaanboke/ml-basics-linear-algorithms)  ✔️\n",
    "\n",
    "#### [NONLINEAR ALGORITHMS](https://www.kaggle.com/kaanboke/nonlinear-algorithms)  ✔️\n",
    "\n",
    "#### [The Most Used Methods to Deal with MISSING VALUES](https://www.kaggle.com/kaanboke/the-most-used-methods-to-deal-with-missing-values)  ✔️\n",
    "\n",
    "#### [Beginner Friendly End to End ML Project- Classification with Imbalanced Data](https://www.kaggle.com/kaanboke/beginner-friendly-end-to-end-ml-project-enjoy)  ✔️\n",
    "\n",
    "#### [How to Prevent the Data Leakage ?](https://www.kaggle.com/kaanboke/how-to-prevent-the-data-leakage) ✔️\n",
    "\n",
    "#### [The Most Common EVALUATION METRICS- A Gentle Intro](https://www.kaggle.com/kaanboke/the-most-common-evaluation-metrics-a-gentle-intro) ✔️\n",
    "\n",
    "\n",
    "#### In this notebook we will  cover one of the important concepts of the Data Science Journey : **Feature Selection**\n",
    "#### Enjoy 🤘"
   ]
  },
  {
   "cell_type": "markdown",
   "id": "3e3ea575",
   "metadata": {
    "papermill": {
     "duration": 0.048506,
     "end_time": "2021-09-23T16:27:56.910557",
     "exception": false,
     "start_time": "2021-09-23T16:27:56.862051",
     "status": "completed"
    },
    "tags": []
   },
   "source": [
    "![](https://miro.medium.com/max/1400/1*FUZS9K4JPqzfXDcC83BQTw.png)"
   ]
  },
  {
   "cell_type": "markdown",
   "id": "b155770d",
   "metadata": {
    "papermill": {
     "duration": 0.047732,
     "end_time": "2021-09-23T16:27:57.006817",
     "exception": false,
     "start_time": "2021-09-23T16:27:56.959085",
     "status": "completed"
    },
    "tags": []
   },
   "source": [
    "Image Credit: https://miro.medium.com/"
   ]
  },
  {
   "cell_type": "markdown",
   "id": "04fb725d",
   "metadata": {
    "papermill": {
     "duration": 0.048121,
     "end_time": "2021-09-23T16:27:57.104252",
     "exception": false,
     "start_time": "2021-09-23T16:27:57.056131",
     "status": "completed"
    },
    "tags": []
   },
   "source": [
    "<a id=\"toc\"></a>\n",
    "\n",
    "<h3 class=\"list-group-item list-group-item-action active\" data-toggle=\"list\" role=\"tab\" aria-controls=\"home\">Table of Contents</h3>\n",
    "    \n",
    "* [What is Feature Selection](#0)   \n",
    "* [Data](#1)\n",
    "* [Univariate Statistics-Filter Methods](#2)\n",
    "    * [Removing features with low variance - Variance Threshold](#3)\n",
    "    * [Select KBest for Classification Problems](#4)\n",
    "    * [Select KBest for Regression Problems](#5)\n",
    "    * [Information Gain - Classification Problems](#6)\n",
    "    * [Information Gain- Regression Problems](#7)\n",
    "    * [Select Percentile](#8)\n",
    "\n",
    "\n",
    "* [Model-Based Feature Selection - Embedded](#9)\n",
    "* [Iterative Feature Selection - Wrapper](#10)\n",
    "* [Conclusion](#11)\n",
    "* [References & Further Reading](#12)\n"
   ]
  },
  {
   "cell_type": "markdown",
   "id": "e2352cf4",
   "metadata": {
    "papermill": {
     "duration": 0.047901,
     "end_time": "2021-09-23T16:27:57.200427",
     "exception": false,
     "start_time": "2021-09-23T16:27:57.152526",
     "status": "completed"
    },
    "tags": []
   },
   "source": [
    "<a id=\"0\"></a>\n",
    "<font color=\"lightseagreen\" size=+2.5><b>What is Feature Selection ?</b></font>\n",
    "\n",
    "<a href=\"#toc\" class=\"btn btn-primary btn-sm\" role=\"button\" aria-pressed=\"true\" style=\"color:white\" data-toggle=\"popover\">Table of Contents</a>\n"
   ]
  },
  {
   "cell_type": "markdown",
   "id": "94bf19a5",
   "metadata": {
    "papermill": {
     "duration": 0.055519,
     "end_time": "2021-09-23T16:27:57.304234",
     "exception": false,
     "start_time": "2021-09-23T16:27:57.248715",
     "status": "completed"
    },
    "tags": []
   },
   "source": [
    "> In machine learning and statistics, feature selection, also known as variable selection, attribute selection or variable subset selection, is the process of selecting a subset of relevant features (variables, predictors) for use in model construction. Feature selection techniques are used for several reasons:\n",
    "\n",
    "> * simplification of models to make them easier to interpret by researchers/users,\n",
    "> * shorter training times,\n",
    "> * to avoid the curse of dimensionality,\n",
    "> * improve data's compatibility with a learning model class,\n",
    "> * encode inherent symmetries present in the input space.\n",
    "\n",
    "Reference: https://en.wikipedia.org/wiki/Feature_selection"
   ]
  },
  {
   "cell_type": "markdown",
   "id": "e8138c21",
   "metadata": {
    "papermill": {
     "duration": 0.048001,
     "end_time": "2021-09-23T16:27:57.410839",
     "exception": false,
     "start_time": "2021-09-23T16:27:57.362838",
     "status": "completed"
    },
    "tags": []
   },
   "source": [
    "![](https://assets-global.website-files.com/5debb9b4f88fbc3f702d579e/60ecb081507f4559c84381f5_feature-selection-graphic.png)"
   ]
  },
  {
   "cell_type": "markdown",
   "id": "edc3ffa6",
   "metadata": {
    "papermill": {
     "duration": 0.048646,
     "end_time": "2021-09-23T16:27:57.507810",
     "exception": false,
     "start_time": "2021-09-23T16:27:57.459164",
     "status": "completed"
    },
    "tags": []
   },
   "source": [
    "image credit: https://www.omnisci.com/technical-glossary/feature-selection"
   ]
  },
  {
   "cell_type": "markdown",
   "id": "1fed9452",
   "metadata": {
    "papermill": {
     "duration": 0.048329,
     "end_time": "2021-09-23T16:27:57.606430",
     "exception": false,
     "start_time": "2021-09-23T16:27:57.558101",
     "status": "completed"
    },
    "tags": []
   },
   "source": [
    "Even though there are unsupervised feature selection techniques, in this study we will focus on the supervised feature selection techniques."
   ]
  },
  {
   "cell_type": "markdown",
   "id": "0ff2bbf1",
   "metadata": {
    "papermill": {
     "duration": 0.048952,
     "end_time": "2021-09-23T16:27:57.704204",
     "exception": false,
     "start_time": "2021-09-23T16:27:57.655252",
     "status": "completed"
    },
    "tags": []
   },
   "source": [
    "Let's see the three  main approaches of feature selection in the supervised learning."
   ]
  },
  {
   "cell_type": "markdown",
   "id": "3de7b704",
   "metadata": {
    "papermill": {
     "duration": 0.048254,
     "end_time": "2021-09-23T16:27:57.813453",
     "exception": false,
     "start_time": "2021-09-23T16:27:57.765199",
     "status": "completed"
    },
    "tags": []
   },
   "source": [
    "![](https://www.researchgate.net/profile/Enis-Karaarslan/publication/337591149/figure/fig2/AS:830089595990017@1574920190654/The-main-feature-selection-methods-for-machine-learning.png)"
   ]
  },
  {
   "cell_type": "markdown",
   "id": "3d39d0bc",
   "metadata": {
    "papermill": {
     "duration": 0.04837,
     "end_time": "2021-09-23T16:27:57.913011",
     "exception": false,
     "start_time": "2021-09-23T16:27:57.864641",
     "status": "completed"
    },
    "tags": []
   },
   "source": [
    "Image Credit: https://www.researchgate.net/profile/Enis-Karaarslan/publication/337591149"
   ]
  },
  {
   "cell_type": "code",
   "execution_count": 1,
   "id": "a10f85a2",
   "metadata": {
    "execution": {
     "iopub.execute_input": "2021-09-23T16:27:58.014056Z",
     "iopub.status.busy": "2021-09-23T16:27:58.012907Z",
     "iopub.status.idle": "2021-09-23T16:27:59.140322Z",
     "shell.execute_reply": "2021-09-23T16:27:59.139576Z",
     "shell.execute_reply.started": "2021-09-23T15:48:51.067428Z"
    },
    "papermill": {
     "duration": 1.179029,
     "end_time": "2021-09-23T16:27:59.140512",
     "exception": false,
     "start_time": "2021-09-23T16:27:57.961483",
     "status": "completed"
    },
    "tags": []
   },
   "outputs": [],
   "source": [
    "import pandas as pd \n",
    "import numpy as np \n",
    "import matplotlib.pyplot as plt \n",
    "\n",
    "from sklearn.model_selection import train_test_split\n",
    "from sklearn.linear_model import LinearRegression,LogisticRegression\n",
    "from sklearn.ensemble import RandomForestClassifier\n",
    "from sklearn.feature_selection import SelectKBest,SelectPercentile,f_classif,f_regression,mutual_info_regression,mutual_info_classif,SelectFromModel,RFE\n",
    "\n",
    "pd.set_option('max_columns',100)\n",
    "pd.set_option('max_rows',900)\n",
    "\n",
    "pd.set_option('max_colwidth',200)\n",
    "\n",
    "import warnings\n",
    "warnings.filterwarnings(\"ignore\")"
   ]
  },
  {
   "cell_type": "markdown",
   "id": "6ec43584",
   "metadata": {
    "papermill": {
     "duration": 0.048457,
     "end_time": "2021-09-23T16:27:59.237407",
     "exception": false,
     "start_time": "2021-09-23T16:27:59.188950",
     "status": "completed"
    },
    "tags": []
   },
   "source": [
    "<a id=\"1\"></a>\n",
    "<font color=\"lightseagreen\" size=+2.5><b>Data</b></font>\n",
    "\n",
    "<a href=\"#toc\" class=\"btn btn-primary btn-sm\" role=\"button\" aria-pressed=\"true\" style=\"color:white\" data-toggle=\"popover\">Table of Contents</a>"
   ]
  },
  {
   "cell_type": "markdown",
   "id": "c2df7548",
   "metadata": {
    "papermill": {
     "duration": 0.061246,
     "end_time": "2021-09-23T16:27:59.349349",
     "exception": false,
     "start_time": "2021-09-23T16:27:59.288103",
     "status": "completed"
    },
    "tags": []
   },
   "source": [
    "- In this study I'll use two dataset. One for classification problems and other one for the prediction problems."
   ]
  },
  {
   "cell_type": "markdown",
   "id": "9d59b3d4",
   "metadata": {
    "papermill": {
     "duration": 0.048528,
     "end_time": "2021-09-23T16:27:59.458639",
     "exception": false,
     "start_time": "2021-09-23T16:27:59.410111",
     "status": "completed"
    },
    "tags": []
   },
   "source": [
    "### Heart Failure Clinical Records Dataset"
   ]
  },
  {
   "cell_type": "code",
   "execution_count": 2,
   "id": "f3cef638",
   "metadata": {
    "execution": {
     "iopub.execute_input": "2021-09-23T16:27:59.564032Z",
     "iopub.status.busy": "2021-09-23T16:27:59.561543Z",
     "iopub.status.idle": "2021-09-23T16:27:59.604512Z",
     "shell.execute_reply": "2021-09-23T16:27:59.605019Z",
     "shell.execute_reply.started": "2021-09-23T15:48:51.113796Z"
    },
    "papermill": {
     "duration": 0.097319,
     "end_time": "2021-09-23T16:27:59.605200",
     "exception": false,
     "start_time": "2021-09-23T16:27:59.507881",
     "status": "completed"
    },
    "tags": []
   },
   "outputs": [
    {
     "data": {
      "text/html": [
       "<div>\n",
       "<style scoped>\n",
       "    .dataframe tbody tr th:only-of-type {\n",
       "        vertical-align: middle;\n",
       "    }\n",
       "\n",
       "    .dataframe tbody tr th {\n",
       "        vertical-align: top;\n",
       "    }\n",
       "\n",
       "    .dataframe thead th {\n",
       "        text-align: right;\n",
       "    }\n",
       "</style>\n",
       "<table border=\"1\" class=\"dataframe\">\n",
       "  <thead>\n",
       "    <tr style=\"text-align: right;\">\n",
       "      <th></th>\n",
       "      <th>age</th>\n",
       "      <th>anaemia</th>\n",
       "      <th>creatinine_phosphokinase</th>\n",
       "      <th>diabetes</th>\n",
       "      <th>ejection_fraction</th>\n",
       "      <th>high_blood_pressure</th>\n",
       "      <th>platelets</th>\n",
       "      <th>serum_creatinine</th>\n",
       "      <th>serum_sodium</th>\n",
       "      <th>sex</th>\n",
       "      <th>smoking</th>\n",
       "      <th>time</th>\n",
       "      <th>DEATH_EVENT</th>\n",
       "    </tr>\n",
       "  </thead>\n",
       "  <tbody>\n",
       "    <tr>\n",
       "      <th>0</th>\n",
       "      <td>75.0</td>\n",
       "      <td>0</td>\n",
       "      <td>582</td>\n",
       "      <td>0</td>\n",
       "      <td>20</td>\n",
       "      <td>1</td>\n",
       "      <td>265000.00</td>\n",
       "      <td>1.9</td>\n",
       "      <td>130</td>\n",
       "      <td>1</td>\n",
       "      <td>0</td>\n",
       "      <td>4</td>\n",
       "      <td>1</td>\n",
       "    </tr>\n",
       "    <tr>\n",
       "      <th>1</th>\n",
       "      <td>55.0</td>\n",
       "      <td>0</td>\n",
       "      <td>7861</td>\n",
       "      <td>0</td>\n",
       "      <td>38</td>\n",
       "      <td>0</td>\n",
       "      <td>263358.03</td>\n",
       "      <td>1.1</td>\n",
       "      <td>136</td>\n",
       "      <td>1</td>\n",
       "      <td>0</td>\n",
       "      <td>6</td>\n",
       "      <td>1</td>\n",
       "    </tr>\n",
       "    <tr>\n",
       "      <th>2</th>\n",
       "      <td>65.0</td>\n",
       "      <td>0</td>\n",
       "      <td>146</td>\n",
       "      <td>0</td>\n",
       "      <td>20</td>\n",
       "      <td>0</td>\n",
       "      <td>162000.00</td>\n",
       "      <td>1.3</td>\n",
       "      <td>129</td>\n",
       "      <td>1</td>\n",
       "      <td>1</td>\n",
       "      <td>7</td>\n",
       "      <td>1</td>\n",
       "    </tr>\n",
       "    <tr>\n",
       "      <th>3</th>\n",
       "      <td>50.0</td>\n",
       "      <td>1</td>\n",
       "      <td>111</td>\n",
       "      <td>0</td>\n",
       "      <td>20</td>\n",
       "      <td>0</td>\n",
       "      <td>210000.00</td>\n",
       "      <td>1.9</td>\n",
       "      <td>137</td>\n",
       "      <td>1</td>\n",
       "      <td>0</td>\n",
       "      <td>7</td>\n",
       "      <td>1</td>\n",
       "    </tr>\n",
       "    <tr>\n",
       "      <th>4</th>\n",
       "      <td>65.0</td>\n",
       "      <td>1</td>\n",
       "      <td>160</td>\n",
       "      <td>1</td>\n",
       "      <td>20</td>\n",
       "      <td>0</td>\n",
       "      <td>327000.00</td>\n",
       "      <td>2.7</td>\n",
       "      <td>116</td>\n",
       "      <td>0</td>\n",
       "      <td>0</td>\n",
       "      <td>8</td>\n",
       "      <td>1</td>\n",
       "    </tr>\n",
       "  </tbody>\n",
       "</table>\n",
       "</div>"
      ],
      "text/plain": [
       "    age  anaemia  creatinine_phosphokinase  diabetes  ejection_fraction  \\\n",
       "0  75.0        0                       582         0                 20   \n",
       "1  55.0        0                      7861         0                 38   \n",
       "2  65.0        0                       146         0                 20   \n",
       "3  50.0        1                       111         0                 20   \n",
       "4  65.0        1                       160         1                 20   \n",
       "\n",
       "   high_blood_pressure  platelets  serum_creatinine  serum_sodium  sex  \\\n",
       "0                    1  265000.00               1.9           130    1   \n",
       "1                    0  263358.03               1.1           136    1   \n",
       "2                    0  162000.00               1.3           129    1   \n",
       "3                    0  210000.00               1.9           137    1   \n",
       "4                    0  327000.00               2.7           116    0   \n",
       "\n",
       "   smoking  time  DEATH_EVENT  \n",
       "0        0     4            1  \n",
       "1        0     6            1  \n",
       "2        1     7            1  \n",
       "3        0     7            1  \n",
       "4        0     8            1  "
      ]
     },
     "execution_count": 2,
     "metadata": {},
     "output_type": "execute_result"
    }
   ],
   "source": [
    "df_heart = pd.read_csv('../input/heart-failure-clinical-data/heart_failure_clinical_records_dataset.csv')\n",
    "\n",
    "df_heart.head()"
   ]
  },
  {
   "cell_type": "markdown",
   "id": "d0a85a7a",
   "metadata": {
    "papermill": {
     "duration": 0.050984,
     "end_time": "2021-09-23T16:27:59.707379",
     "exception": false,
     "start_time": "2021-09-23T16:27:59.656395",
     "status": "completed"
    },
    "tags": []
   },
   "source": [
    "### Car Price Dataset"
   ]
  },
  {
   "cell_type": "code",
   "execution_count": 3,
   "id": "2d007c66",
   "metadata": {
    "execution": {
     "iopub.execute_input": "2021-09-23T16:27:59.812308Z",
     "iopub.status.busy": "2021-09-23T16:27:59.809681Z",
     "iopub.status.idle": "2021-09-23T16:27:59.847117Z",
     "shell.execute_reply": "2021-09-23T16:27:59.846542Z",
     "shell.execute_reply.started": "2021-09-23T15:48:51.169161Z"
    },
    "papermill": {
     "duration": 0.090687,
     "end_time": "2021-09-23T16:27:59.847263",
     "exception": false,
     "start_time": "2021-09-23T16:27:59.756576",
     "status": "completed"
    },
    "tags": []
   },
   "outputs": [
    {
     "data": {
      "text/html": [
       "<div>\n",
       "<style scoped>\n",
       "    .dataframe tbody tr th:only-of-type {\n",
       "        vertical-align: middle;\n",
       "    }\n",
       "\n",
       "    .dataframe tbody tr th {\n",
       "        vertical-align: top;\n",
       "    }\n",
       "\n",
       "    .dataframe thead th {\n",
       "        text-align: right;\n",
       "    }\n",
       "</style>\n",
       "<table border=\"1\" class=\"dataframe\">\n",
       "  <thead>\n",
       "    <tr style=\"text-align: right;\">\n",
       "      <th></th>\n",
       "      <th>wheelbase</th>\n",
       "      <th>carlength</th>\n",
       "      <th>carwidth</th>\n",
       "      <th>carheight</th>\n",
       "      <th>curbweight</th>\n",
       "      <th>enginesize</th>\n",
       "      <th>boreratio</th>\n",
       "      <th>stroke</th>\n",
       "      <th>horsepower</th>\n",
       "      <th>peakrpm</th>\n",
       "      <th>citympg</th>\n",
       "      <th>highwaympg</th>\n",
       "      <th>price</th>\n",
       "    </tr>\n",
       "  </thead>\n",
       "  <tbody>\n",
       "    <tr>\n",
       "      <th>0</th>\n",
       "      <td>88.6</td>\n",
       "      <td>168.8</td>\n",
       "      <td>64.1</td>\n",
       "      <td>48.8</td>\n",
       "      <td>2548</td>\n",
       "      <td>130</td>\n",
       "      <td>3.47</td>\n",
       "      <td>2.68</td>\n",
       "      <td>111</td>\n",
       "      <td>5000</td>\n",
       "      <td>21</td>\n",
       "      <td>27</td>\n",
       "      <td>13495.0</td>\n",
       "    </tr>\n",
       "    <tr>\n",
       "      <th>1</th>\n",
       "      <td>88.6</td>\n",
       "      <td>168.8</td>\n",
       "      <td>64.1</td>\n",
       "      <td>48.8</td>\n",
       "      <td>2548</td>\n",
       "      <td>130</td>\n",
       "      <td>3.47</td>\n",
       "      <td>2.68</td>\n",
       "      <td>111</td>\n",
       "      <td>5000</td>\n",
       "      <td>21</td>\n",
       "      <td>27</td>\n",
       "      <td>16500.0</td>\n",
       "    </tr>\n",
       "    <tr>\n",
       "      <th>2</th>\n",
       "      <td>94.5</td>\n",
       "      <td>171.2</td>\n",
       "      <td>65.5</td>\n",
       "      <td>52.4</td>\n",
       "      <td>2823</td>\n",
       "      <td>152</td>\n",
       "      <td>2.68</td>\n",
       "      <td>3.47</td>\n",
       "      <td>154</td>\n",
       "      <td>5000</td>\n",
       "      <td>19</td>\n",
       "      <td>26</td>\n",
       "      <td>16500.0</td>\n",
       "    </tr>\n",
       "    <tr>\n",
       "      <th>3</th>\n",
       "      <td>99.8</td>\n",
       "      <td>176.6</td>\n",
       "      <td>66.2</td>\n",
       "      <td>54.3</td>\n",
       "      <td>2337</td>\n",
       "      <td>109</td>\n",
       "      <td>3.19</td>\n",
       "      <td>3.40</td>\n",
       "      <td>102</td>\n",
       "      <td>5500</td>\n",
       "      <td>24</td>\n",
       "      <td>30</td>\n",
       "      <td>13950.0</td>\n",
       "    </tr>\n",
       "    <tr>\n",
       "      <th>4</th>\n",
       "      <td>99.4</td>\n",
       "      <td>176.6</td>\n",
       "      <td>66.4</td>\n",
       "      <td>54.3</td>\n",
       "      <td>2824</td>\n",
       "      <td>136</td>\n",
       "      <td>3.19</td>\n",
       "      <td>3.40</td>\n",
       "      <td>115</td>\n",
       "      <td>5500</td>\n",
       "      <td>18</td>\n",
       "      <td>22</td>\n",
       "      <td>17450.0</td>\n",
       "    </tr>\n",
       "  </tbody>\n",
       "</table>\n",
       "</div>"
      ],
      "text/plain": [
       "   wheelbase  carlength  carwidth  carheight  curbweight  enginesize  \\\n",
       "0       88.6      168.8      64.1       48.8        2548         130   \n",
       "1       88.6      168.8      64.1       48.8        2548         130   \n",
       "2       94.5      171.2      65.5       52.4        2823         152   \n",
       "3       99.8      176.6      66.2       54.3        2337         109   \n",
       "4       99.4      176.6      66.4       54.3        2824         136   \n",
       "\n",
       "   boreratio  stroke  horsepower  peakrpm  citympg  highwaympg    price  \n",
       "0       3.47    2.68         111     5000       21          27  13495.0  \n",
       "1       3.47    2.68         111     5000       21          27  16500.0  \n",
       "2       2.68    3.47         154     5000       19          26  16500.0  \n",
       "3       3.19    3.40         102     5500       24          30  13950.0  \n",
       "4       3.19    3.40         115     5500       18          22  17450.0  "
      ]
     },
     "execution_count": 3,
     "metadata": {},
     "output_type": "execute_result"
    }
   ],
   "source": [
    "df_car = pd.read_csv('../input/car-price-prediction/CarPrice_Assignment.csv', usecols = ['price', 'wheelbase', 'carlength', 'carwidth', 'carheight','curbweight', 'enginesize', 'boreratio', 'stroke', 'horsepower','peakrpm', 'citympg', 'highwaympg'])\n",
    "df_car.head()"
   ]
  },
  {
   "cell_type": "markdown",
   "id": "16eebe5d",
   "metadata": {
    "papermill": {
     "duration": 0.049127,
     "end_time": "2021-09-23T16:27:59.947246",
     "exception": false,
     "start_time": "2021-09-23T16:27:59.898119",
     "status": "completed"
    },
    "tags": []
   },
   "source": [
    "<a id=\"2\"></a>\n",
    "<font color=\"lightseagreen\" size=+2.5><b>Univariate Statistics - Filter Methods</b></font>\n",
    "\n",
    "<a href=\"#toc\" class=\"btn btn-primary btn-sm\" role=\"button\" aria-pressed=\"true\" style=\"color:white\" data-toggle=\"popover\">Table of Contents</a>"
   ]
  },
  {
   "cell_type": "markdown",
   "id": "6983f460",
   "metadata": {
    "papermill": {
     "duration": 0.050483,
     "end_time": "2021-09-23T16:28:00.048902",
     "exception": false,
     "start_time": "2021-09-23T16:27:59.998419",
     "status": "completed"
    },
    "tags": []
   },
   "source": [
    "- Our main aim to find out statistically significant / meaningful relationship between features and target.\n",
    "- In this part, we will look at the different methods under the filter methods.\n",
    "    - Removing features with low variance - Variance Threshold\n",
    "    - KBest models for both classification and regression problems\n",
    "    - Information gain for both classification and regression problems\n",
    "    - Select percentile"
   ]
  },
  {
   "cell_type": "markdown",
   "id": "edff6d11",
   "metadata": {
    "papermill": {
     "duration": 0.049188,
     "end_time": "2021-09-23T16:28:00.149394",
     "exception": false,
     "start_time": "2021-09-23T16:28:00.100206",
     "status": "completed"
    },
    "tags": []
   },
   "source": [
    "<a id=\"3\"></a>\n",
    "<font color=\"lightseagreen\" size=+1><b>Removing features with low variance - Variance Threshold</b></font>\n",
    "\n",
    "<a href=\"#toc\" class=\"btn btn-primary btn-sm\" role=\"button\" aria-pressed=\"true\" style=\"color:white\" data-toggle=\"popover\">Table of Contents</a>\n"
   ]
  },
  {
   "cell_type": "markdown",
   "id": "90b633ed",
   "metadata": {
    "papermill": {
     "duration": 0.049113,
     "end_time": "2021-09-23T16:28:00.247949",
     "exception": false,
     "start_time": "2021-09-23T16:28:00.198836",
     "status": "completed"
    },
    "tags": []
   },
   "source": [
    "Variance threshold allows us to set a minimum threshold for an accepted variance in each feature. As a default it removes all zero-variance features (same value in all samples)."
   ]
  },
  {
   "cell_type": "code",
   "execution_count": 4,
   "id": "ceba27e3",
   "metadata": {
    "execution": {
     "iopub.execute_input": "2021-09-23T16:28:00.360460Z",
     "iopub.status.busy": "2021-09-23T16:28:00.359765Z",
     "iopub.status.idle": "2021-09-23T16:28:00.381608Z",
     "shell.execute_reply": "2021-09-23T16:28:00.382195Z",
     "shell.execute_reply.started": "2021-09-23T15:48:51.199943Z"
    },
    "papermill": {
     "duration": 0.084276,
     "end_time": "2021-09-23T16:28:00.382398",
     "exception": false,
     "start_time": "2021-09-23T16:28:00.298122",
     "status": "completed"
    },
    "tags": []
   },
   "outputs": [
    {
     "data": {
      "text/html": [
       "<div>\n",
       "<style scoped>\n",
       "    .dataframe tbody tr th:only-of-type {\n",
       "        vertical-align: middle;\n",
       "    }\n",
       "\n",
       "    .dataframe tbody tr th {\n",
       "        vertical-align: top;\n",
       "    }\n",
       "\n",
       "    .dataframe thead th {\n",
       "        text-align: right;\n",
       "    }\n",
       "</style>\n",
       "<table border=\"1\" class=\"dataframe\">\n",
       "  <thead>\n",
       "    <tr style=\"text-align: right;\">\n",
       "      <th></th>\n",
       "      <th>Feature</th>\n",
       "      <th>Variance</th>\n",
       "    </tr>\n",
       "  </thead>\n",
       "  <tbody>\n",
       "    <tr>\n",
       "      <th>10</th>\n",
       "      <td>smoking</td>\n",
       "      <td>0.210572</td>\n",
       "    </tr>\n",
       "    <tr>\n",
       "      <th>5</th>\n",
       "      <td>high_blood_pressure</td>\n",
       "      <td>0.228704</td>\n",
       "    </tr>\n",
       "    <tr>\n",
       "      <th>9</th>\n",
       "      <td>sex</td>\n",
       "      <td>0.232687</td>\n",
       "    </tr>\n",
       "    <tr>\n",
       "      <th>3</th>\n",
       "      <td>diabetes</td>\n",
       "      <td>0.239418</td>\n",
       "    </tr>\n",
       "    <tr>\n",
       "      <th>1</th>\n",
       "      <td>anaemia</td>\n",
       "      <td>0.243767</td>\n",
       "    </tr>\n",
       "    <tr>\n",
       "      <th>7</th>\n",
       "      <td>serum_creatinine</td>\n",
       "      <td>0.995251</td>\n",
       "    </tr>\n",
       "    <tr>\n",
       "      <th>8</th>\n",
       "      <td>serum_sodium</td>\n",
       "      <td>18.556672</td>\n",
       "    </tr>\n",
       "    <tr>\n",
       "      <th>0</th>\n",
       "      <td>age</td>\n",
       "      <td>55.000000</td>\n",
       "    </tr>\n",
       "    <tr>\n",
       "      <th>4</th>\n",
       "      <td>ejection_fraction</td>\n",
       "      <td>60.000000</td>\n",
       "    </tr>\n",
       "    <tr>\n",
       "      <th>11</th>\n",
       "      <td>time</td>\n",
       "      <td>281.000000</td>\n",
       "    </tr>\n",
       "    <tr>\n",
       "      <th>2</th>\n",
       "      <td>creatinine_phosphokinase</td>\n",
       "      <td>7838.000000</td>\n",
       "    </tr>\n",
       "    <tr>\n",
       "      <th>6</th>\n",
       "      <td>platelets</td>\n",
       "      <td>559000.000000</td>\n",
       "    </tr>\n",
       "  </tbody>\n",
       "</table>\n",
       "</div>"
      ],
      "text/plain": [
       "                     Feature       Variance\n",
       "10                   smoking       0.210572\n",
       "5        high_blood_pressure       0.228704\n",
       "9                        sex       0.232687\n",
       "3                   diabetes       0.239418\n",
       "1                    anaemia       0.243767\n",
       "7           serum_creatinine       0.995251\n",
       "8               serum_sodium      18.556672\n",
       "0                        age      55.000000\n",
       "4          ejection_fraction      60.000000\n",
       "11                      time     281.000000\n",
       "2   creatinine_phosphokinase    7838.000000\n",
       "6                  platelets  559000.000000"
      ]
     },
     "execution_count": 4,
     "metadata": {},
     "output_type": "execute_result"
    }
   ],
   "source": [
    "from sklearn.feature_selection import VarianceThreshold\n",
    "\n",
    "X= df_heart.drop('DEATH_EVENT', axis=1)\n",
    "y= df_heart['DEATH_EVENT']\n",
    "\n",
    "X_train, X_test, y_train, y_test = train_test_split(X, y, random_state=42, test_size=.30)\n",
    "\n",
    "\n",
    "vth = VarianceThreshold(threshold=0)  # as deafult threshold=0\n",
    "vth.fit(X_train)\n",
    "X_train_vth = X_train.iloc[:, vth.get_support()]\n",
    "\n",
    "pd.DataFrame( {'Feature': X_train.columns,'Variance': vth.variances_,}).sort_values('Variance', ascending=True)\n"
   ]
  },
  {
   "cell_type": "code",
   "execution_count": 5,
   "id": "a58b0913",
   "metadata": {
    "execution": {
     "iopub.execute_input": "2021-09-23T16:28:00.506193Z",
     "iopub.status.busy": "2021-09-23T16:28:00.497942Z",
     "iopub.status.idle": "2021-09-23T16:28:00.510247Z",
     "shell.execute_reply": "2021-09-23T16:28:00.509697Z",
     "shell.execute_reply.started": "2021-09-23T15:48:51.237144Z"
    },
    "papermill": {
     "duration": 0.077264,
     "end_time": "2021-09-23T16:28:00.510408",
     "exception": false,
     "start_time": "2021-09-23T16:28:00.433144",
     "status": "completed"
    },
    "tags": []
   },
   "outputs": [
    {
     "data": {
      "text/html": [
       "<div>\n",
       "<style scoped>\n",
       "    .dataframe tbody tr th:only-of-type {\n",
       "        vertical-align: middle;\n",
       "    }\n",
       "\n",
       "    .dataframe tbody tr th {\n",
       "        vertical-align: top;\n",
       "    }\n",
       "\n",
       "    .dataframe thead th {\n",
       "        text-align: right;\n",
       "    }\n",
       "</style>\n",
       "<table border=\"1\" class=\"dataframe\">\n",
       "  <thead>\n",
       "    <tr style=\"text-align: right;\">\n",
       "      <th></th>\n",
       "      <th>Feature</th>\n",
       "      <th>Variance</th>\n",
       "    </tr>\n",
       "  </thead>\n",
       "  <tbody>\n",
       "    <tr>\n",
       "      <th>6</th>\n",
       "      <td>boreratio</td>\n",
       "      <td>0.073650</td>\n",
       "    </tr>\n",
       "    <tr>\n",
       "      <th>7</th>\n",
       "      <td>stroke</td>\n",
       "      <td>0.093854</td>\n",
       "    </tr>\n",
       "    <tr>\n",
       "      <th>2</th>\n",
       "      <td>carwidth</td>\n",
       "      <td>4.727567</td>\n",
       "    </tr>\n",
       "    <tr>\n",
       "      <th>3</th>\n",
       "      <td>carheight</td>\n",
       "      <td>6.107762</td>\n",
       "    </tr>\n",
       "    <tr>\n",
       "      <th>10</th>\n",
       "      <td>citympg</td>\n",
       "      <td>25.000000</td>\n",
       "    </tr>\n",
       "    <tr>\n",
       "      <th>0</th>\n",
       "      <td>wheelbase</td>\n",
       "      <td>29.000000</td>\n",
       "    </tr>\n",
       "    <tr>\n",
       "      <th>11</th>\n",
       "      <td>highwaympg</td>\n",
       "      <td>31.000000</td>\n",
       "    </tr>\n",
       "    <tr>\n",
       "      <th>1</th>\n",
       "      <td>carlength</td>\n",
       "      <td>58.000000</td>\n",
       "    </tr>\n",
       "    <tr>\n",
       "      <th>8</th>\n",
       "      <td>horsepower</td>\n",
       "      <td>236.000000</td>\n",
       "    </tr>\n",
       "    <tr>\n",
       "      <th>5</th>\n",
       "      <td>enginesize</td>\n",
       "      <td>256.000000</td>\n",
       "    </tr>\n",
       "    <tr>\n",
       "      <th>4</th>\n",
       "      <td>curbweight</td>\n",
       "      <td>2247.000000</td>\n",
       "    </tr>\n",
       "    <tr>\n",
       "      <th>9</th>\n",
       "      <td>peakrpm</td>\n",
       "      <td>2450.000000</td>\n",
       "    </tr>\n",
       "  </tbody>\n",
       "</table>\n",
       "</div>"
      ],
      "text/plain": [
       "       Feature     Variance\n",
       "6    boreratio     0.073650\n",
       "7       stroke     0.093854\n",
       "2     carwidth     4.727567\n",
       "3    carheight     6.107762\n",
       "10     citympg    25.000000\n",
       "0    wheelbase    29.000000\n",
       "11  highwaympg    31.000000\n",
       "1    carlength    58.000000\n",
       "8   horsepower   236.000000\n",
       "5   enginesize   256.000000\n",
       "4   curbweight  2247.000000\n",
       "9      peakrpm  2450.000000"
      ]
     },
     "execution_count": 5,
     "metadata": {},
     "output_type": "execute_result"
    }
   ],
   "source": [
    "\n",
    "X= df_car.drop('price', axis=1)\n",
    "y= df_car['price']\n",
    "\n",
    "X_train, X_test, y_train, y_test = train_test_split(X, y, random_state=42, test_size=.30)\n",
    "\n",
    "\n",
    "vth = VarianceThreshold(threshold=0)  # as deafult threshold=0\n",
    "vth.fit(X_train)\n",
    "X_train_vth = X_train.iloc[:, vth.get_support()]\n",
    "\n",
    "pd.DataFrame( {'Feature': X_train.columns,'Variance': vth.variances_,}).sort_values('Variance', ascending=True)\n"
   ]
  },
  {
   "cell_type": "markdown",
   "id": "7e30ff18",
   "metadata": {
    "papermill": {
     "duration": 0.053989,
     "end_time": "2021-09-23T16:28:00.616030",
     "exception": false,
     "start_time": "2021-09-23T16:28:00.562041",
     "status": "completed"
    },
    "tags": []
   },
   "source": [
    "- None of our features have a zero variance, for that reason we didn't remove any of our features."
   ]
  },
  {
   "cell_type": "markdown",
   "id": "53e80005",
   "metadata": {
    "papermill": {
     "duration": 0.050718,
     "end_time": "2021-09-23T16:28:00.719700",
     "exception": false,
     "start_time": "2021-09-23T16:28:00.668982",
     "status": "completed"
    },
    "tags": []
   },
   "source": [
    "<a id=\"4\"></a>\n",
    "<font color=\"lightseagreen\" size=+1><b>Select KBest for Classification Problems</b></font>\n",
    "\n",
    "<a href=\"#toc\" class=\"btn btn-primary btn-sm\" role=\"button\" aria-pressed=\"true\" style=\"color:white\" data-toggle=\"popover\">Table of Contents</a>"
   ]
  },
  {
   "cell_type": "code",
   "execution_count": 6,
   "id": "8d298b71",
   "metadata": {
    "execution": {
     "iopub.execute_input": "2021-09-23T16:28:00.833737Z",
     "iopub.status.busy": "2021-09-23T16:28:00.832654Z",
     "iopub.status.idle": "2021-09-23T16:28:01.070755Z",
     "shell.execute_reply": "2021-09-23T16:28:01.071239Z",
     "shell.execute_reply.started": "2021-09-23T15:48:51.269999Z"
    },
    "papermill": {
     "duration": 0.300277,
     "end_time": "2021-09-23T16:28:01.071445",
     "exception": false,
     "start_time": "2021-09-23T16:28:00.771168",
     "status": "completed"
    },
    "tags": []
   },
   "outputs": [
    {
     "name": "stdout",
     "output_type": "stream",
     "text": [
      "Feature 0 : 19.133\n",
      "Feature 1 : 0.129\n",
      "Feature 2 : 0.099\n",
      "Feature 3 : 0.018\n",
      "Feature 4 : 13.347\n",
      "Feature 5 : 0.456\n",
      "Feature 6 : 0.089\n",
      "Feature 7 : 27.949\n",
      "Feature 8 : 6.244\n",
      "Feature 9 : 1.076\n",
      "Feature 10 : 0.354\n",
      "Feature 11 : 82.186\n",
      "\n"
     ]
    },
    {
     "data": {
      "image/png": "[encoded data removed]",
      "text/plain": [
       "<Figure size 432x288 with 1 Axes>"
      ]
     },
     "metadata": {
      "needs_background": "light"
     },
     "output_type": "display_data"
    }
   ],
   "source": [
    "\n",
    "X= df_heart.drop('DEATH_EVENT', axis=1)\n",
    "y= df_heart['DEATH_EVENT']\n",
    "\n",
    "X_train, X_test, y_train, y_test = train_test_split(X, y, random_state=42, test_size=.30)\n",
    "\n",
    "Kbest_classif = SelectKBest(score_func=f_classif, k=6)\n",
    "Kbest_classif.fit(X_train, y_train)\n",
    "\n",
    "# what are scores for the features\n",
    "for i in range(len(Kbest_classif.scores_)):\n",
    "    print(f'Feature {i} : {round(Kbest_classif.scores_[i],3)}')\n",
    "\n",
    "print()\n",
    "\n",
    "plt.bar([X_train.columns[i] for i in range(len(Kbest_classif.scores_))], Kbest_classif.scores_)\n",
    "plt.xticks(rotation=90)\n",
    "plt.rcParams[\"figure.figsize\"] = (8,6)\n",
    "plt.show()\n",
    "\n"
   ]
  },
  {
   "cell_type": "markdown",
   "id": "f8e0ff77",
   "metadata": {
    "papermill": {
     "duration": 0.05246,
     "end_time": "2021-09-23T16:28:01.176103",
     "exception": false,
     "start_time": "2021-09-23T16:28:01.123643",
     "status": "completed"
    },
    "tags": []
   },
   "source": [
    "- Based on the SelectKBest, ['age','ejection_fraction','serum_creatinine', 'serum_sodium','sex','time'] are selected."
   ]
  },
  {
   "cell_type": "code",
   "execution_count": 7,
   "id": "8773d139",
   "metadata": {
    "execution": {
     "iopub.execute_input": "2021-09-23T16:28:01.285697Z",
     "iopub.status.busy": "2021-09-23T16:28:01.284915Z",
     "iopub.status.idle": "2021-09-23T16:28:01.296601Z",
     "shell.execute_reply": "2021-09-23T16:28:01.295955Z",
     "shell.execute_reply.started": "2021-09-23T15:48:52.313959Z"
    },
    "papermill": {
     "duration": 0.06755,
     "end_time": "2021-09-23T16:28:01.296739",
     "exception": false,
     "start_time": "2021-09-23T16:28:01.229189",
     "status": "completed"
    },
    "tags": []
   },
   "outputs": [
    {
     "name": "stdout",
     "output_type": "stream",
     "text": [
      "X_train.shape: (209, 12)\n",
      "\n",
      "X_train_selected.shape: (209, 6)\n",
      "\n"
     ]
    }
   ],
   "source": [
    "# transform training set\n",
    "X_train_classif = Kbest_classif.transform(X_train)\n",
    "print(\"X_train.shape: {}\".format(X_train.shape))\n",
    "print()\n",
    "print(\"X_train_selected.shape: {}\".format(X_train_classif.shape))\n",
    "print()\n",
    "# transform test data\n",
    "X_test_classif = Kbest_classif.transform(X_test)"
   ]
  },
  {
   "cell_type": "markdown",
   "id": "7bedf701",
   "metadata": {
    "papermill": {
     "duration": 0.054028,
     "end_time": "2021-09-23T16:28:01.403293",
     "exception": false,
     "start_time": "2021-09-23T16:28:01.349265",
     "status": "completed"
    },
    "tags": []
   },
   "source": [
    "- Let's see the differences with the whole features and the selected 6 features by using Logistic Regression as a base model."
   ]
  },
  {
   "cell_type": "code",
   "execution_count": 8,
   "id": "d5d8c87e",
   "metadata": {
    "execution": {
     "iopub.execute_input": "2021-09-23T16:28:01.517171Z",
     "iopub.status.busy": "2021-09-23T16:28:01.516474Z",
     "iopub.status.idle": "2021-09-23T16:28:01.526726Z",
     "shell.execute_reply": "2021-09-23T16:28:01.527285Z",
     "shell.execute_reply.started": "2021-09-23T15:48:52.329805Z"
    },
    "papermill": {
     "duration": 0.071463,
     "end_time": "2021-09-23T16:28:01.527454",
     "exception": false,
     "start_time": "2021-09-23T16:28:01.455991",
     "status": "completed"
    },
    "tags": []
   },
   "outputs": [
    {
     "name": "stdout",
     "output_type": "stream",
     "text": [
      "Score with all features: 0.7444\n",
      "Score with only selected features: 0.7778\n"
     ]
    }
   ],
   "source": [
    "\n",
    "lor = LogisticRegression(solver='liblinear', random_state=0)\n",
    "lor.fit(X_train, y_train)\n",
    "\n",
    "print(f'Score with all features: {round(lor.score(X_test, y_test),4)}')\n",
    "\n",
    "lor.fit(X_train_classif, y_train)\n",
    "\n",
    "print(f'Score with only selected features: {round(lor.score(X_test_classif, y_test),4)}')"
   ]
  },
  {
   "cell_type": "markdown",
   "id": "da386941",
   "metadata": {
    "papermill": {
     "duration": 0.052829,
     "end_time": "2021-09-23T16:28:01.632924",
     "exception": false,
     "start_time": "2021-09-23T16:28:01.580095",
     "status": "completed"
    },
    "tags": []
   },
   "source": [
    "- In this example, by using only 6 features of the dataset, we got better score than by using whole features.\n",
    "- We can suspect that maybe some of the features are uninformative and not providing much about the target variable."
   ]
  },
  {
   "cell_type": "markdown",
   "id": "5a1aad37",
   "metadata": {
    "papermill": {
     "duration": 0.053208,
     "end_time": "2021-09-23T16:28:01.739216",
     "exception": false,
     "start_time": "2021-09-23T16:28:01.686008",
     "status": "completed"
    },
    "tags": []
   },
   "source": [
    "<a id=\"5\"></a>\n",
    "<font color=\"lightseagreen\" size=+1><b>Select KBest for Regression Problems</b></font>\n",
    "\n",
    "<a href=\"#toc\" class=\"btn btn-primary btn-sm\" role=\"button\" aria-pressed=\"true\" style=\"color:white\" data-toggle=\"popover\">Table of Contents</a>"
   ]
  },
  {
   "cell_type": "code",
   "execution_count": 9,
   "id": "82ce5b56",
   "metadata": {
    "execution": {
     "iopub.execute_input": "2021-09-23T16:28:01.850261Z",
     "iopub.status.busy": "2021-09-23T16:28:01.849607Z",
     "iopub.status.idle": "2021-09-23T16:28:02.047752Z",
     "shell.execute_reply": "2021-09-23T16:28:02.047119Z",
     "shell.execute_reply.started": "2021-09-23T15:48:52.355671Z"
    },
    "papermill": {
     "duration": 0.255469,
     "end_time": "2021-09-23T16:28:02.047890",
     "exception": false,
     "start_time": "2021-09-23T16:28:01.792421",
     "status": "completed"
    },
    "tags": []
   },
   "outputs": [
    {
     "name": "stdout",
     "output_type": "stream",
     "text": [
      "Feature 0 : 61.269\n",
      "Feature 1 : 116.937\n",
      "Feature 2 : 206.713\n",
      "Feature 3 : 0.507\n",
      "Feature 4 : 335.167\n",
      "Feature 5 : 468.579\n",
      "Feature 6 : 59.07\n",
      "Feature 7 : 0.219\n",
      "Feature 8 : 271.304\n",
      "Feature 9 : 1.668\n",
      "Feature 10 : 167.594\n",
      "Feature 11 : 180.56\n",
      "\n"
     ]
    },
    {
     "data": {
      "image/png": "[encoded data removed]",
      "text/plain": [
       "<Figure size 576x432 with 1 Axes>"
      ]
     },
     "metadata": {
      "needs_background": "light"
     },
     "output_type": "display_data"
    }
   ],
   "source": [
    "\n",
    "X= df_car.drop('price', axis=1)\n",
    "y= df_car['price']\n",
    "\n",
    "X_train, X_test, y_train, y_test = train_test_split(X, y, random_state=42, test_size=.30)\n",
    "\n",
    "Kbest_reg = SelectKBest(score_func=f_regression, k=6)\n",
    "Kbest_reg.fit(X_train, y_train)\n",
    "\n",
    "\n",
    "\n",
    "# what are scores for the features\n",
    "for i in range(len(Kbest_reg.scores_)):\n",
    "    print(f'Feature {i} : {round(Kbest_reg.scores_[i],3)}')\n",
    "\n",
    "print()\n",
    "\n",
    "\n",
    "# plot the scores\n",
    "plt.bar([X_train.columns[i] for i in range(len(Kbest_reg.scores_))], Kbest_reg.scores_)\n",
    "plt.xticks(rotation=90)\n",
    "plt.rcParams[\"figure.figsize\"] = (8,6)\n",
    "plt.show()\n",
    "\n"
   ]
  },
  {
   "cell_type": "code",
   "execution_count": 10,
   "id": "6173a8ed",
   "metadata": {
    "execution": {
     "iopub.execute_input": "2021-09-23T16:28:02.162488Z",
     "iopub.status.busy": "2021-09-23T16:28:02.161408Z",
     "iopub.status.idle": "2021-09-23T16:28:02.172864Z",
     "shell.execute_reply": "2021-09-23T16:28:02.173824Z",
     "shell.execute_reply.started": "2021-09-23T15:48:52.611264Z"
    },
    "papermill": {
     "duration": 0.070629,
     "end_time": "2021-09-23T16:28:02.174153",
     "exception": false,
     "start_time": "2021-09-23T16:28:02.103524",
     "status": "completed"
    },
    "tags": []
   },
   "outputs": [
    {
     "name": "stdout",
     "output_type": "stream",
     "text": [
      "X_train.shape: (143, 12)\n",
      "\n",
      "X_train_selected.shape: (143, 6)\n",
      "\n"
     ]
    }
   ],
   "source": [
    "# transform training set\n",
    "X_train_reg = Kbest_reg.transform(X_train)\n",
    "print(\"X_train.shape: {}\".format(X_train.shape))\n",
    "print()\n",
    "print(\"X_train_selected.shape: {}\".format(X_train_reg.shape))\n",
    "print()\n",
    "# transform test data\n",
    "X_test_reg = Kbest_reg.transform(X_test)"
   ]
  },
  {
   "cell_type": "code",
   "execution_count": 11,
   "id": "3627701a",
   "metadata": {
    "execution": {
     "iopub.execute_input": "2021-09-23T16:28:02.288871Z",
     "iopub.status.busy": "2021-09-23T16:28:02.288118Z",
     "iopub.status.idle": "2021-09-23T16:28:02.313893Z",
     "shell.execute_reply": "2021-09-23T16:28:02.314802Z",
     "shell.execute_reply.started": "2021-09-23T15:48:52.623109Z"
    },
    "papermill": {
     "duration": 0.083703,
     "end_time": "2021-09-23T16:28:02.315047",
     "exception": false,
     "start_time": "2021-09-23T16:28:02.231344",
     "status": "completed"
    },
    "tags": []
   },
   "outputs": [
    {
     "name": "stdout",
     "output_type": "stream",
     "text": [
      "Score with all features: 0.7879\n",
      "Score with only selected features: 0.762\n"
     ]
    }
   ],
   "source": [
    "\n",
    "lr = LinearRegression()\n",
    "lr.fit(X_train, y_train)\n",
    "\n",
    "print(f'Score with all features: {round(lr.score(X_test, y_test),4)}')\n",
    "\n",
    "lr.fit(X_train_reg, y_train)\n",
    "\n",
    "print(f'Score with only selected features: {round(lr.score(X_test_reg, y_test),4)}')"
   ]
  },
  {
   "cell_type": "markdown",
   "id": "3099b8d5",
   "metadata": {
    "papermill": {
     "duration": 0.054791,
     "end_time": "2021-09-23T16:28:02.426795",
     "exception": false,
     "start_time": "2021-09-23T16:28:02.372004",
     "status": "completed"
    },
    "tags": []
   },
   "source": [
    "- Bu using only 6 of the features we couldn't get the better score. \n",
    "- Maybe other features on the dataset are informative about the target, we shoudl include them into our model."
   ]
  },
  {
   "cell_type": "markdown",
   "id": "c9c7071c",
   "metadata": {
    "papermill": {
     "duration": 0.05565,
     "end_time": "2021-09-23T16:28:02.539787",
     "exception": false,
     "start_time": "2021-09-23T16:28:02.484137",
     "status": "completed"
    },
    "tags": []
   },
   "source": [
    "<a id=\"6\"></a>\n",
    "<font color=\"lightseagreen\" size=+1><b>Information Gain - Classification Problems</b></font>\n",
    "\n",
    "<a href=\"#toc\" class=\"btn btn-primary btn-sm\" role=\"button\" aria-pressed=\"true\" style=\"color:white\" data-toggle=\"popover\">Table of Contents</a>"
   ]
  },
  {
   "cell_type": "code",
   "execution_count": 12,
   "id": "89762fc9",
   "metadata": {
    "execution": {
     "iopub.execute_input": "2021-09-23T16:28:02.658687Z",
     "iopub.status.busy": "2021-09-23T16:28:02.657812Z",
     "iopub.status.idle": "2021-09-23T16:28:02.916029Z",
     "shell.execute_reply": "2021-09-23T16:28:02.916545Z",
     "shell.execute_reply.started": "2021-09-23T15:48:52.645833Z"
    },
    "papermill": {
     "duration": 0.321818,
     "end_time": "2021-09-23T16:28:02.916728",
     "exception": false,
     "start_time": "2021-09-23T16:28:02.594910",
     "status": "completed"
    },
    "tags": []
   },
   "outputs": [
    {
     "name": "stdout",
     "output_type": "stream",
     "text": [
      "Feature 0 : 0.09\n",
      "Feature 1 : 0.0\n",
      "Feature 2 : 0.001\n",
      "Feature 3 : 0.015\n",
      "Feature 4 : 0.071\n",
      "Feature 5 : 0.009\n",
      "Feature 6 : 0.018\n",
      "Feature 7 : 0.101\n",
      "Feature 8 : 0.062\n",
      "Feature 9 : 0.0\n",
      "Feature 10 : 0.0\n",
      "Feature 11 : 0.236\n",
      "\n"
     ]
    },
    {
     "data": {
      "image/png": "[encoded data removed]",
      "text/plain": [
       "<Figure size 576x432 with 1 Axes>"
      ]
     },
     "metadata": {
      "needs_background": "light"
     },
     "output_type": "display_data"
    }
   ],
   "source": [
    "\n",
    "X= df_heart.drop('DEATH_EVENT', axis=1)\n",
    "y= df_heart['DEATH_EVENT']\n",
    "\n",
    "X_train, X_test, y_train, y_test = train_test_split(X, y, random_state=42, test_size=.30)\n",
    "\n",
    "infogain_classif = SelectKBest(score_func=mutual_info_classif, k=6)\n",
    "\n",
    "infogain_classif.fit(X_train, y_train)\n",
    "\n",
    "\n",
    "\n",
    "# what are scores for the features\n",
    "for i in range(len(infogain_classif.scores_)):\n",
    "    print(f'Feature {i} : {round(infogain_classif.scores_[i],3)}')\n",
    "\n",
    "\n",
    "print()\n",
    "\n",
    "# plot the scores\n",
    "plt.bar([X_train.columns[i] for i in range(len(infogain_classif.scores_))], infogain_classif.scores_)\n",
    "plt.xticks(rotation=90)\n",
    "plt.rcParams[\"figure.figsize\"] = (8,6)\n",
    "plt.show()\n",
    "\n"
   ]
  },
  {
   "cell_type": "code",
   "execution_count": 13,
   "id": "676330dc",
   "metadata": {
    "execution": {
     "iopub.execute_input": "2021-09-23T16:28:03.041029Z",
     "iopub.status.busy": "2021-09-23T16:28:03.038031Z",
     "iopub.status.idle": "2021-09-23T16:28:03.045716Z",
     "shell.execute_reply": "2021-09-23T16:28:03.044887Z",
     "shell.execute_reply.started": "2021-09-23T15:48:52.965987Z"
    },
    "papermill": {
     "duration": 0.072385,
     "end_time": "2021-09-23T16:28:03.045925",
     "exception": false,
     "start_time": "2021-09-23T16:28:02.973540",
     "status": "completed"
    },
    "tags": []
   },
   "outputs": [
    {
     "name": "stdout",
     "output_type": "stream",
     "text": [
      "X_train.shape: (209, 12)\n",
      "\n",
      "X_train_selected.shape: (209, 6)\n",
      "\n"
     ]
    }
   ],
   "source": [
    "# transform training set\n",
    "X_train_info_classif = infogain_classif.transform(X_train)\n",
    "\n",
    "print(\"X_train.shape: {}\".format(X_train.shape))\n",
    "print()\n",
    "\n",
    "print(\"X_train_selected.shape: {}\".format(X_train_info_classif.shape))\n",
    "print()\n",
    "\n",
    "# transform test data\n",
    "X_test_info_classif = infogain_classif.transform(X_test)"
   ]
  },
  {
   "cell_type": "code",
   "execution_count": 14,
   "id": "fe72a3ac",
   "metadata": {
    "execution": {
     "iopub.execute_input": "2021-09-23T16:28:03.171517Z",
     "iopub.status.busy": "2021-09-23T16:28:03.170435Z",
     "iopub.status.idle": "2021-09-23T16:28:03.180526Z",
     "shell.execute_reply": "2021-09-23T16:28:03.180981Z",
     "shell.execute_reply.started": "2021-09-23T15:48:52.978714Z"
    },
    "papermill": {
     "duration": 0.077315,
     "end_time": "2021-09-23T16:28:03.181157",
     "exception": false,
     "start_time": "2021-09-23T16:28:03.103842",
     "status": "completed"
    },
    "tags": []
   },
   "outputs": [
    {
     "name": "stdout",
     "output_type": "stream",
     "text": [
      "Score with all features: 0.7444\n",
      "Score with only selected features: 0.7444\n"
     ]
    }
   ],
   "source": [
    "\n",
    "lor = LogisticRegression(solver='liblinear', random_state=0)\n",
    "lor.fit(X_train, y_train)\n",
    "\n",
    "print(f'Score with all features: {round(lor.score(X_test, y_test),4)}')\n",
    "\n",
    "lor.fit(X_train_info_classif, y_train)\n",
    "\n",
    "print(f'Score with only selected features: {round(lor.score(X_test_info_classif, y_test),4)}')"
   ]
  },
  {
   "cell_type": "markdown",
   "id": "369b8090",
   "metadata": {
    "papermill": {
     "duration": 0.056276,
     "end_time": "2021-09-23T16:28:03.294224",
     "exception": false,
     "start_time": "2021-09-23T16:28:03.237948",
     "status": "completed"
    },
    "tags": []
   },
   "source": [
    "- In this example, by using only 6 features of the dataset, we got better score than by using whole features.\n",
    "- We can suspect that maybe some of the features are uninformative and not providing much about the target variable."
   ]
  },
  {
   "cell_type": "markdown",
   "id": "8915b938",
   "metadata": {
    "papermill": {
     "duration": 0.055837,
     "end_time": "2021-09-23T16:28:03.406450",
     "exception": false,
     "start_time": "2021-09-23T16:28:03.350613",
     "status": "completed"
    },
    "tags": []
   },
   "source": [
    "<a id=\"7\"></a>\n",
    "<font color=\"lightseagreen\" size=+1><b>Information Gain- Regression Problems</b></font>\n",
    "\n",
    "<a href=\"#toc\" class=\"btn btn-primary btn-sm\" role=\"button\" aria-pressed=\"true\" style=\"color:white\" data-toggle=\"popover\">Table of Contents</a>"
   ]
  },
  {
   "cell_type": "code",
   "execution_count": 15,
   "id": "9ef63e01",
   "metadata": {
    "execution": {
     "iopub.execute_input": "2021-09-23T16:28:03.533104Z",
     "iopub.status.busy": "2021-09-23T16:28:03.532283Z",
     "iopub.status.idle": "2021-09-23T16:28:03.873427Z",
     "shell.execute_reply": "2021-09-23T16:28:03.872684Z",
     "shell.execute_reply.started": "2021-09-23T15:48:53.00033Z"
    },
    "papermill": {
     "duration": 0.411121,
     "end_time": "2021-09-23T16:28:03.873578",
     "exception": false,
     "start_time": "2021-09-23T16:28:03.462457",
     "status": "completed"
    },
    "tags": []
   },
   "outputs": [
    {
     "name": "stdout",
     "output_type": "stream",
     "text": [
      "Feature 0: 0.505896\n",
      "Feature 1: 0.633651\n",
      "Feature 2: 0.563599\n",
      "Feature 3: 0.232393\n",
      "Feature 4: 0.928475\n",
      "Feature 5: 0.745376\n",
      "Feature 6: 0.437616\n",
      "Feature 7: 0.266788\n",
      "Feature 8: 0.812114\n",
      "Feature 9: 0.195749\n",
      "Feature 10: 0.821275\n",
      "Feature 11: 0.806565\n"
     ]
    },
    {
     "data": {
      "image/png": "[encoded data removed]",
      "text/plain": [
       "<Figure size 576x432 with 1 Axes>"
      ]
     },
     "metadata": {
      "needs_background": "light"
     },
     "output_type": "display_data"
    }
   ],
   "source": [
    "\n",
    "X= df_car.drop('price', axis=1)\n",
    "y= df_car['price']\n",
    "\n",
    "X_train, X_test, y_train, y_test = train_test_split(X, y, random_state=42, test_size=.30)\n",
    "\n",
    "infogain_reg = SelectKBest(score_func=mutual_info_regression, k=6)\n",
    "\n",
    "infogain_reg.fit(X_train, y_train)\n",
    "\n",
    "\n",
    "\n",
    "# what are scores for the features\n",
    "for i in range(len(infogain_reg.scores_)):\n",
    "    print('Feature %d: %f' % (i, infogain_reg.scores_[i]))\n",
    "\n",
    "\n",
    "# plot the scores\n",
    "plt.bar([X_train.columns[i] for i in range(len(infogain_reg.scores_))], infogain_reg.scores_)\n",
    "plt.xticks(rotation=90)\n",
    "plt.rcParams[\"figure.figsize\"] = (8,6)\n",
    "plt.show()\n",
    "\n"
   ]
  },
  {
   "cell_type": "code",
   "execution_count": 16,
   "id": "3bed002a",
   "metadata": {
    "execution": {
     "iopub.execute_input": "2021-09-23T16:28:03.999311Z",
     "iopub.status.busy": "2021-09-23T16:28:03.998631Z",
     "iopub.status.idle": "2021-09-23T16:28:04.003263Z",
     "shell.execute_reply": "2021-09-23T16:28:04.002772Z",
     "shell.execute_reply.started": "2021-09-23T15:48:53.303645Z"
    },
    "papermill": {
     "duration": 0.071796,
     "end_time": "2021-09-23T16:28:04.003442",
     "exception": false,
     "start_time": "2021-09-23T16:28:03.931646",
     "status": "completed"
    },
    "tags": []
   },
   "outputs": [
    {
     "name": "stdout",
     "output_type": "stream",
     "text": [
      "X_train.shape: (143, 12)\n",
      "\n",
      "X_train_reg.shape: (143, 6)\n",
      "\n"
     ]
    }
   ],
   "source": [
    "# transform training set\n",
    "X_train_reg = infogain_reg.transform(X_train)\n",
    "print(\"X_train.shape: {}\".format(X_train.shape))\n",
    "print()\n",
    "print(\"X_train_reg.shape: {}\".format(X_train_reg.shape))\n",
    "print()\n",
    "# transform test data\n",
    "X_test_reg = infogain_reg.transform(X_test)"
   ]
  },
  {
   "cell_type": "code",
   "execution_count": 17,
   "id": "1902832b",
   "metadata": {
    "execution": {
     "iopub.execute_input": "2021-09-23T16:28:04.133401Z",
     "iopub.status.busy": "2021-09-23T16:28:04.132614Z",
     "iopub.status.idle": "2021-09-23T16:28:04.136191Z",
     "shell.execute_reply": "2021-09-23T16:28:04.135710Z",
     "shell.execute_reply.started": "2021-09-23T15:48:53.317897Z"
    },
    "papermill": {
     "duration": 0.074155,
     "end_time": "2021-09-23T16:28:04.136351",
     "exception": false,
     "start_time": "2021-09-23T16:28:04.062196",
     "status": "completed"
    },
    "tags": []
   },
   "outputs": [
    {
     "name": "stdout",
     "output_type": "stream",
     "text": [
      "Score with all features: 0.7879\n",
      "Score with only selected features: 0.7752\n"
     ]
    }
   ],
   "source": [
    "\n",
    "lr = LinearRegression()\n",
    "lr.fit(X_train, y_train)\n",
    "print(f'Score with all features: {round(lr.score(X_test, y_test),4)}')\n",
    "lr.fit(X_train_reg, y_train)\n",
    "print(f'Score with only selected features: {round(lr.score(X_test_reg, y_test),4)}')"
   ]
  },
  {
   "cell_type": "markdown",
   "id": "bcf987b4",
   "metadata": {
    "papermill": {
     "duration": 0.059511,
     "end_time": "2021-09-23T16:28:04.254370",
     "exception": false,
     "start_time": "2021-09-23T16:28:04.194859",
     "status": "completed"
    },
    "tags": []
   },
   "source": [
    "<a id=\"8\"></a>\n",
    "<font color=\"lightseagreen\" size=+1><b>Select Percentile</b></font>\n",
    "\n",
    "<a href=\"#toc\" class=\"btn btn-primary btn-sm\" role=\"button\" aria-pressed=\"true\" style=\"color:white\" data-toggle=\"popover\">Table of Contents</a>"
   ]
  },
  {
   "cell_type": "code",
   "execution_count": 18,
   "id": "b2f45a18",
   "metadata": {
    "execution": {
     "iopub.execute_input": "2021-09-23T16:28:04.383812Z",
     "iopub.status.busy": "2021-09-23T16:28:04.382815Z",
     "iopub.status.idle": "2021-09-23T16:28:04.391071Z",
     "shell.execute_reply": "2021-09-23T16:28:04.390493Z",
     "shell.execute_reply.started": "2021-09-23T15:48:53.340066Z"
    },
    "papermill": {
     "duration": 0.078209,
     "end_time": "2021-09-23T16:28:04.391219",
     "exception": false,
     "start_time": "2021-09-23T16:28:04.313010",
     "status": "completed"
    },
    "tags": []
   },
   "outputs": [
    {
     "data": {
      "text/plain": [
       "SelectPercentile(percentile=50)"
      ]
     },
     "execution_count": 18,
     "metadata": {},
     "output_type": "execute_result"
    }
   ],
   "source": [
    "X= df_heart.drop('DEATH_EVENT', axis=1)\n",
    "y= df_heart['DEATH_EVENT']\n",
    "\n",
    "X_train, X_test, y_train, y_test = train_test_split(X, y, random_state=42, test_size=.30)\n",
    "\n",
    "percentile = SelectPercentile(percentile=50)\n",
    "percentile.fit(X_train, y_train)"
   ]
  },
  {
   "cell_type": "code",
   "execution_count": 19,
   "id": "b2700f35",
   "metadata": {
    "execution": {
     "iopub.execute_input": "2021-09-23T16:28:04.515940Z",
     "iopub.status.busy": "2021-09-23T16:28:04.515302Z",
     "iopub.status.idle": "2021-09-23T16:28:04.518306Z",
     "shell.execute_reply": "2021-09-23T16:28:04.517741Z",
     "shell.execute_reply.started": "2021-09-23T15:48:53.361423Z"
    },
    "papermill": {
     "duration": 0.068608,
     "end_time": "2021-09-23T16:28:04.518447",
     "exception": false,
     "start_time": "2021-09-23T16:28:04.449839",
     "status": "completed"
    },
    "tags": []
   },
   "outputs": [
    {
     "data": {
      "text/plain": [
       "array([ True, False, False, False,  True, False, False,  True,  True,\n",
       "        True, False,  True])"
      ]
     },
     "execution_count": 19,
     "metadata": {},
     "output_type": "execute_result"
    }
   ],
   "source": [
    "percentile.get_support()"
   ]
  },
  {
   "cell_type": "code",
   "execution_count": 20,
   "id": "261d6195",
   "metadata": {
    "execution": {
     "iopub.execute_input": "2021-09-23T16:28:04.642227Z",
     "iopub.status.busy": "2021-09-23T16:28:04.641594Z",
     "iopub.status.idle": "2021-09-23T16:28:04.646148Z",
     "shell.execute_reply": "2021-09-23T16:28:04.645555Z",
     "shell.execute_reply.started": "2021-09-23T15:48:53.375341Z"
    },
    "papermill": {
     "duration": 0.068782,
     "end_time": "2021-09-23T16:28:04.646308",
     "exception": false,
     "start_time": "2021-09-23T16:28:04.577526",
     "status": "completed"
    },
    "tags": []
   },
   "outputs": [
    {
     "data": {
      "text/plain": [
       "Index(['age', 'anaemia', 'creatinine_phosphokinase', 'diabetes',\n",
       "       'ejection_fraction', 'high_blood_pressure', 'platelets',\n",
       "       'serum_creatinine', 'serum_sodium', 'sex', 'smoking', 'time'],\n",
       "      dtype='object')"
      ]
     },
     "execution_count": 20,
     "metadata": {},
     "output_type": "execute_result"
    }
   ],
   "source": [
    "X_train.columns"
   ]
  },
  {
   "cell_type": "markdown",
   "id": "4464c9dc",
   "metadata": {
    "papermill": {
     "duration": 0.058573,
     "end_time": "2021-09-23T16:28:04.764002",
     "exception": false,
     "start_time": "2021-09-23T16:28:04.705429",
     "status": "completed"
    },
    "tags": []
   },
   "source": [
    "- We can see that **'age','ejection_fraction','serum_creatinine', 'serum_sodium', 'sex', 'time'** are selected by percentile."
   ]
  },
  {
   "cell_type": "code",
   "execution_count": 21,
   "id": "8fe54322",
   "metadata": {
    "execution": {
     "iopub.execute_input": "2021-09-23T16:28:04.892202Z",
     "iopub.status.busy": "2021-09-23T16:28:04.891547Z",
     "iopub.status.idle": "2021-09-23T16:28:04.895548Z",
     "shell.execute_reply": "2021-09-23T16:28:04.896038Z",
     "shell.execute_reply.started": "2021-09-23T15:48:53.392213Z"
    },
    "papermill": {
     "duration": 0.073142,
     "end_time": "2021-09-23T16:28:04.896202",
     "exception": false,
     "start_time": "2021-09-23T16:28:04.823060",
     "status": "completed"
    },
    "tags": []
   },
   "outputs": [
    {
     "name": "stdout",
     "output_type": "stream",
     "text": [
      "X_train.shape: (209, 12)\n",
      "\n",
      "X_train_selected.shape: (209, 6)\n",
      "\n"
     ]
    }
   ],
   "source": [
    "# transform training set\n",
    "X_train_percentile = percentile.transform(X_train)\n",
    "print(\"X_train.shape: {}\".format(X_train.shape))\n",
    "\n",
    "print()\n",
    "\n",
    "print(\"X_train_selected.shape: {}\".format(X_train_percentile.shape))\n",
    "print()\n",
    "\n",
    "# transform test data\n",
    "X_test_percentile = percentile.transform(X_test)"
   ]
  },
  {
   "cell_type": "code",
   "execution_count": 22,
   "id": "3665f4a4",
   "metadata": {
    "execution": {
     "iopub.execute_input": "2021-09-23T16:28:05.023399Z",
     "iopub.status.busy": "2021-09-23T16:28:05.022708Z",
     "iopub.status.idle": "2021-09-23T16:28:05.032850Z",
     "shell.execute_reply": "2021-09-23T16:28:05.032257Z",
     "shell.execute_reply.started": "2021-09-23T15:48:53.414861Z"
    },
    "papermill": {
     "duration": 0.077607,
     "end_time": "2021-09-23T16:28:05.032994",
     "exception": false,
     "start_time": "2021-09-23T16:28:04.955387",
     "status": "completed"
    },
    "tags": []
   },
   "outputs": [
    {
     "name": "stdout",
     "output_type": "stream",
     "text": [
      "Score with all features: 0.7444\n",
      "Score with only selected features: 0.7778\n"
     ]
    }
   ],
   "source": [
    "\n",
    "lor = LogisticRegression(solver='liblinear', random_state=0)\n",
    "lor.fit(X_train, y_train)\n",
    "\n",
    "print(f'Score with all features: {round(lor.score(X_test, y_test),4)}')\n",
    "\n",
    "lor.fit(X_train_percentile, y_train)\n",
    "\n",
    "print(f'Score with only selected features: {round(lor.score(X_test_percentile, y_test),4)}')"
   ]
  },
  {
   "cell_type": "markdown",
   "id": "1fc9e00a",
   "metadata": {
    "papermill": {
     "duration": 0.059613,
     "end_time": "2021-09-23T16:28:05.154495",
     "exception": false,
     "start_time": "2021-09-23T16:28:05.094882",
     "status": "completed"
    },
    "tags": []
   },
   "source": [
    "- In this example, by using only 6 features of the dataset, we got better score than by using whole features.\n",
    "- We can suspect that maybe some of the features are uninformative and not providing much about the target variable."
   ]
  },
  {
   "cell_type": "markdown",
   "id": "c90c079e",
   "metadata": {
    "papermill": {
     "duration": 0.059895,
     "end_time": "2021-09-23T16:28:05.274089",
     "exception": false,
     "start_time": "2021-09-23T16:28:05.214194",
     "status": "completed"
    },
    "tags": []
   },
   "source": [
    "- In the filter model the selection of features is done as a preprocessing activity.\n",
    "- We haven't tried to optimize the performance. \n",
    "- By using filter model,we select a subset of features that maximizes  model function."
   ]
  },
  {
   "cell_type": "markdown",
   "id": "d649138c",
   "metadata": {
    "papermill": {
     "duration": 0.059452,
     "end_time": "2021-09-23T16:28:05.394477",
     "exception": false,
     "start_time": "2021-09-23T16:28:05.335025",
     "status": "completed"
    },
    "tags": []
   },
   "source": [
    "<a id=\"9\"></a>\n",
    "<font color=\"lightseagreen\" size=+2.5><b>Model-Based Feature Selection - Embedded</b></font>\n",
    "\n",
    "<a href=\"#toc\" class=\"btn btn-primary btn-sm\" role=\"button\" aria-pressed=\"true\" style=\"color:white\" data-toggle=\"popover\">Table of Contents</a>"
   ]
  },
  {
   "cell_type": "markdown",
   "id": "ea929a49",
   "metadata": {
    "papermill": {
     "duration": 0.059393,
     "end_time": "2021-09-23T16:28:05.513560",
     "exception": false,
     "start_time": "2021-09-23T16:28:05.454167",
     "status": "completed"
    },
    "tags": []
   },
   "source": [
    "- Model based feature selection uses ML algortihms to determine the importance of the feature\n",
    "\n",
    "- After then, it keeps the only important ones.\n",
    "- We will use Random Forest Classifier to select the features\n",
    "- We will continue to use Logistic Regression as our base model."
   ]
  },
  {
   "cell_type": "code",
   "execution_count": 23,
   "id": "360fd17d",
   "metadata": {
    "execution": {
     "iopub.execute_input": "2021-09-23T16:28:05.686150Z",
     "iopub.status.busy": "2021-09-23T16:28:05.644534Z",
     "iopub.status.idle": "2021-09-23T16:28:05.848508Z",
     "shell.execute_reply": "2021-09-23T16:28:05.847871Z",
     "shell.execute_reply.started": "2021-09-23T15:48:53.438929Z"
    },
    "papermill": {
     "duration": 0.27508,
     "end_time": "2021-09-23T16:28:05.848647",
     "exception": false,
     "start_time": "2021-09-23T16:28:05.573567",
     "status": "completed"
    },
    "tags": []
   },
   "outputs": [
    {
     "data": {
      "text/plain": [
       "SelectFromModel(estimator=RandomForestClassifier(random_state=42),\n",
       "                threshold='median')"
      ]
     },
     "execution_count": 23,
     "metadata": {},
     "output_type": "execute_result"
    }
   ],
   "source": [
    "model_based_feature = SelectFromModel(RandomForestClassifier(n_estimators=100, random_state=42),threshold=\"median\")\n",
    "\n",
    "X= df_heart.drop('DEATH_EVENT', axis=1)\n",
    "y= df_heart['DEATH_EVENT']\n",
    "\n",
    "X_train, X_test, y_train, y_test = train_test_split(X, y, random_state=42, test_size=.30)\n",
    "\n",
    "\n",
    "model_based_feature.fit(X_train, y_train)"
   ]
  },
  {
   "cell_type": "code",
   "execution_count": 24,
   "id": "b848f38b",
   "metadata": {
    "execution": {
     "iopub.execute_input": "2021-09-23T16:28:05.985946Z",
     "iopub.status.busy": "2021-09-23T16:28:05.984440Z",
     "iopub.status.idle": "2021-09-23T16:28:05.990393Z",
     "shell.execute_reply": "2021-09-23T16:28:05.989803Z",
     "shell.execute_reply.started": "2021-09-23T15:48:53.665796Z"
    },
    "papermill": {
     "duration": 0.080372,
     "end_time": "2021-09-23T16:28:05.990537",
     "exception": false,
     "start_time": "2021-09-23T16:28:05.910165",
     "status": "completed"
    },
    "tags": []
   },
   "outputs": [
    {
     "data": {
      "text/plain": [
       "array([ True, False,  True, False,  True, False,  True,  True, False,\n",
       "       False, False,  True])"
      ]
     },
     "execution_count": 24,
     "metadata": {},
     "output_type": "execute_result"
    }
   ],
   "source": [
    "model_based_feature.get_support()"
   ]
  },
  {
   "cell_type": "code",
   "execution_count": 25,
   "id": "e51c1358",
   "metadata": {
    "execution": {
     "iopub.execute_input": "2021-09-23T16:28:06.116901Z",
     "iopub.status.busy": "2021-09-23T16:28:06.116297Z",
     "iopub.status.idle": "2021-09-23T16:28:06.121464Z",
     "shell.execute_reply": "2021-09-23T16:28:06.122057Z",
     "shell.execute_reply.started": "2021-09-23T15:48:53.686492Z"
    },
    "papermill": {
     "duration": 0.069685,
     "end_time": "2021-09-23T16:28:06.122222",
     "exception": false,
     "start_time": "2021-09-23T16:28:06.052537",
     "status": "completed"
    },
    "tags": []
   },
   "outputs": [
    {
     "data": {
      "text/plain": [
       "Index(['age', 'anaemia', 'creatinine_phosphokinase', 'diabetes',\n",
       "       'ejection_fraction', 'high_blood_pressure', 'platelets',\n",
       "       'serum_creatinine', 'serum_sodium', 'sex', 'smoking', 'time'],\n",
       "      dtype='object')"
      ]
     },
     "execution_count": 25,
     "metadata": {},
     "output_type": "execute_result"
    }
   ],
   "source": [
    "X_train.columns"
   ]
  },
  {
   "cell_type": "markdown",
   "id": "318f8e2e",
   "metadata": {
    "papermill": {
     "duration": 0.060419,
     "end_time": "2021-09-23T16:28:06.243380",
     "exception": false,
     "start_time": "2021-09-23T16:28:06.182961",
     "status": "completed"
    },
    "tags": []
   },
   "source": [
    "- We can see that **'age',''creatinine_phosphokinase',''ejection_fraction',''platelets',''serum_creatinine', 'time'** are selected by model."
   ]
  },
  {
   "cell_type": "code",
   "execution_count": 26,
   "id": "f660578c",
   "metadata": {
    "execution": {
     "iopub.execute_input": "2021-09-23T16:28:06.382854Z",
     "iopub.status.busy": "2021-09-23T16:28:06.372409Z",
     "iopub.status.idle": "2021-09-23T16:28:06.398289Z",
     "shell.execute_reply": "2021-09-23T16:28:06.397728Z",
     "shell.execute_reply.started": "2021-09-23T15:48:53.704949Z"
    },
    "papermill": {
     "duration": 0.094404,
     "end_time": "2021-09-23T16:28:06.398447",
     "exception": false,
     "start_time": "2021-09-23T16:28:06.304043",
     "status": "completed"
    },
    "tags": []
   },
   "outputs": [
    {
     "name": "stdout",
     "output_type": "stream",
     "text": [
      "X_train.shape: (209, 12)\n",
      "\n",
      "X_train_selected.shape: (209, 6)\n",
      "\n"
     ]
    }
   ],
   "source": [
    "# transform training set\n",
    "X_train_mbf = model_based_feature.transform(X_train)\n",
    "print(f'X_train.shape: {X_train.shape}')\n",
    "\n",
    "print()\n",
    "\n",
    "print(f'X_train_selected.shape: {X_train_mbf.shape}')\n",
    "print()\n",
    "\n",
    "# transform test data\n",
    "X_test_mbf = model_based_feature.transform(X_test)"
   ]
  },
  {
   "cell_type": "code",
   "execution_count": 27,
   "id": "59612119",
   "metadata": {
    "execution": {
     "iopub.execute_input": "2021-09-23T16:28:06.543197Z",
     "iopub.status.busy": "2021-09-23T16:28:06.527523Z",
     "iopub.status.idle": "2021-09-23T16:28:06.560657Z",
     "shell.execute_reply": "2021-09-23T16:28:06.561179Z",
     "shell.execute_reply.started": "2021-09-23T15:48:53.749205Z"
    },
    "papermill": {
     "duration": 0.101635,
     "end_time": "2021-09-23T16:28:06.561393",
     "exception": false,
     "start_time": "2021-09-23T16:28:06.459758",
     "status": "completed"
    },
    "tags": []
   },
   "outputs": [
    {
     "name": "stdout",
     "output_type": "stream",
     "text": [
      "Score with only selected features: 0.8\n"
     ]
    }
   ],
   "source": [
    "lor = LogisticRegression()\n",
    "lor.fit(X_train_mbf, y_train)\n",
    "\n",
    "print(f'Score with only selected features: {round(lor.score(X_test_mbf, y_test),4)}')\n"
   ]
  },
  {
   "cell_type": "markdown",
   "id": "d0d5d233",
   "metadata": {
    "papermill": {
     "duration": 0.063206,
     "end_time": "2021-09-23T16:28:06.689454",
     "exception": false,
     "start_time": "2021-09-23T16:28:06.626248",
     "status": "completed"
    },
    "tags": []
   },
   "source": [
    "- With the better feature selection, we also gained some improvements here.\n",
    "- By using model based feature, even with base model Logistic Regression we get better result."
   ]
  },
  {
   "cell_type": "markdown",
   "id": "ddfcdf18",
   "metadata": {
    "papermill": {
     "duration": 0.060794,
     "end_time": "2021-09-23T16:28:06.811568",
     "exception": false,
     "start_time": "2021-09-23T16:28:06.750774",
     "status": "completed"
    },
    "tags": []
   },
   "source": [
    "<a id=\"10\"></a>\n",
    "<font color=\"lightseagreen\" size=+2.5><b>Iterative Feature Selection- Wrapper</b></font>\n",
    "\n",
    "<a href=\"#toc\" class=\"btn btn-primary btn-sm\" role=\"button\" aria-pressed=\"true\" style=\"color:white\" data-toggle=\"popover\">Table of Contents</a>"
   ]
  },
  {
   "cell_type": "markdown",
   "id": "f4c19d06",
   "metadata": {
    "papermill": {
     "duration": 0.063458,
     "end_time": "2021-09-23T16:28:06.936581",
     "exception": false,
     "start_time": "2021-09-23T16:28:06.873123",
     "status": "completed"
    },
    "tags": []
   },
   "source": [
    "- Iterative feature selection uses different models which have different subsets of future variables.\n",
    "- One method, start wiith no features and add features one by one until the criteria defined by the user.\n",
    "- Other method, which we use in our example, RFE (recursive feature elimination),\n",
    "- RFE starts with the all the features and builds the model and eliminates the least important feature from the model.\n",
    "- Just to remember that, since iterative-wrapper method builts several models, it is computationaly expensive to use."
   ]
  },
  {
   "cell_type": "code",
   "execution_count": 28,
   "id": "69ed0028",
   "metadata": {
    "execution": {
     "iopub.execute_input": "2021-09-23T16:28:07.075614Z",
     "iopub.status.busy": "2021-09-23T16:28:07.070771Z",
     "iopub.status.idle": "2021-09-23T16:28:08.482394Z",
     "shell.execute_reply": "2021-09-23T16:28:08.482960Z",
     "shell.execute_reply.started": "2021-09-23T15:48:53.784465Z"
    },
    "papermill": {
     "duration": 1.482142,
     "end_time": "2021-09-23T16:28:08.483153",
     "exception": false,
     "start_time": "2021-09-23T16:28:07.001011",
     "status": "completed"
    },
    "tags": []
   },
   "outputs": [
    {
     "data": {
      "text/plain": [
       "RFE(estimator=RandomForestClassifier(random_state=42), n_features_to_select=6)"
      ]
     },
     "execution_count": 28,
     "metadata": {},
     "output_type": "execute_result"
    }
   ],
   "source": [
    "rfe_features = RFE(RandomForestClassifier(n_estimators=100, random_state=42),n_features_to_select=6)\n",
    "\n",
    "X= df_heart.drop('DEATH_EVENT', axis=1)\n",
    "y= df_heart['DEATH_EVENT']\n",
    "\n",
    "X_train, X_test, y_train, y_test = train_test_split(X, y, random_state=42, test_size=.30)\n",
    "\n",
    "\n",
    "rfe_features.fit(X_train, y_train)"
   ]
  },
  {
   "cell_type": "code",
   "execution_count": 29,
   "id": "6cc58158",
   "metadata": {
    "execution": {
     "iopub.execute_input": "2021-09-23T16:28:08.615374Z",
     "iopub.status.busy": "2021-09-23T16:28:08.614722Z",
     "iopub.status.idle": "2021-09-23T16:28:08.617733Z",
     "shell.execute_reply": "2021-09-23T16:28:08.617133Z",
     "shell.execute_reply.started": "2021-09-23T15:48:55.259981Z"
    },
    "papermill": {
     "duration": 0.070078,
     "end_time": "2021-09-23T16:28:08.617876",
     "exception": false,
     "start_time": "2021-09-23T16:28:08.547798",
     "status": "completed"
    },
    "tags": []
   },
   "outputs": [
    {
     "data": {
      "text/plain": [
       "array([ True, False,  True, False,  True, False,  True,  True, False,\n",
       "       False, False,  True])"
      ]
     },
     "execution_count": 29,
     "metadata": {},
     "output_type": "execute_result"
    }
   ],
   "source": [
    "rfe_features.get_support()"
   ]
  },
  {
   "cell_type": "code",
   "execution_count": 30,
   "id": "f2e77b95",
   "metadata": {
    "execution": {
     "iopub.execute_input": "2021-09-23T16:28:08.748545Z",
     "iopub.status.busy": "2021-09-23T16:28:08.747517Z",
     "iopub.status.idle": "2021-09-23T16:28:08.752242Z",
     "shell.execute_reply": "2021-09-23T16:28:08.751614Z",
     "shell.execute_reply.started": "2021-09-23T15:48:55.270712Z"
    },
    "papermill": {
     "duration": 0.072598,
     "end_time": "2021-09-23T16:28:08.752416",
     "exception": false,
     "start_time": "2021-09-23T16:28:08.679818",
     "status": "completed"
    },
    "tags": []
   },
   "outputs": [
    {
     "data": {
      "text/plain": [
       "Index(['age', 'anaemia', 'creatinine_phosphokinase', 'diabetes',\n",
       "       'ejection_fraction', 'high_blood_pressure', 'platelets',\n",
       "       'serum_creatinine', 'serum_sodium', 'sex', 'smoking', 'time'],\n",
       "      dtype='object')"
      ]
     },
     "execution_count": 30,
     "metadata": {},
     "output_type": "execute_result"
    }
   ],
   "source": [
    "X_train.columns"
   ]
  },
  {
   "cell_type": "markdown",
   "id": "b8d4d2c0",
   "metadata": {
    "papermill": {
     "duration": 0.062586,
     "end_time": "2021-09-23T16:28:08.877977",
     "exception": false,
     "start_time": "2021-09-23T16:28:08.815391",
     "status": "completed"
    },
    "tags": []
   },
   "source": [
    "- We can see that **'age',''creatinine_phosphokinase',''ejection_fraction',''platelets',''serum_creatinine', 'time'** are selected by iterative future selection."
   ]
  },
  {
   "cell_type": "code",
   "execution_count": 31,
   "id": "ecbbac4e",
   "metadata": {
    "execution": {
     "iopub.execute_input": "2021-09-23T16:28:09.013700Z",
     "iopub.status.busy": "2021-09-23T16:28:09.013018Z",
     "iopub.status.idle": "2021-09-23T16:28:09.016515Z",
     "shell.execute_reply": "2021-09-23T16:28:09.015902Z",
     "shell.execute_reply.started": "2021-09-23T15:48:55.290249Z"
    },
    "papermill": {
     "duration": 0.076041,
     "end_time": "2021-09-23T16:28:09.016653",
     "exception": false,
     "start_time": "2021-09-23T16:28:08.940612",
     "status": "completed"
    },
    "tags": []
   },
   "outputs": [
    {
     "name": "stdout",
     "output_type": "stream",
     "text": [
      "X_train.shape: (209, 12)\n",
      "\n",
      "X_train_selected.shape: (209, 6)\n",
      "\n"
     ]
    }
   ],
   "source": [
    "# transform training set\n",
    "\n",
    "X_train_rfe= rfe_features.transform(X_train)\n",
    "\n",
    "print(f'X_train.shape: {X_train.shape}')\n",
    "\n",
    "print()\n",
    "\n",
    "print(f'X_train_selected.shape: {X_train_rfe.shape}')\n",
    "print()\n",
    "\n",
    "# transform test data\n",
    "X_test_rfe= rfe_features.transform(X_test)"
   ]
  },
  {
   "cell_type": "code",
   "execution_count": 32,
   "id": "db52f243",
   "metadata": {
    "execution": {
     "iopub.execute_input": "2021-09-23T16:28:09.153464Z",
     "iopub.status.busy": "2021-09-23T16:28:09.150599Z",
     "iopub.status.idle": "2021-09-23T16:28:09.176405Z",
     "shell.execute_reply": "2021-09-23T16:28:09.177394Z",
     "shell.execute_reply.started": "2021-09-23T15:48:55.314706Z"
    },
    "papermill": {
     "duration": 0.09703,
     "end_time": "2021-09-23T16:28:09.177734",
     "exception": false,
     "start_time": "2021-09-23T16:28:09.080704",
     "status": "completed"
    },
    "tags": []
   },
   "outputs": [
    {
     "name": "stdout",
     "output_type": "stream",
     "text": [
      "Score with only selected features: 0.8\n"
     ]
    }
   ],
   "source": [
    "\n",
    "lor = LogisticRegression()\n",
    "lor.fit(X_train_mbf, y_train)\n",
    "\n",
    "print(f'Score with only selected features: {round(lor.score(X_test_rfe, y_test),4)}')\n"
   ]
  },
  {
   "cell_type": "markdown",
   "id": "e8c0954a",
   "metadata": {
    "papermill": {
     "duration": 0.066202,
     "end_time": "2021-09-23T16:28:09.309724",
     "exception": false,
     "start_time": "2021-09-23T16:28:09.243522",
     "status": "completed"
    },
    "tags": []
   },
   "source": [
    "- With the better feature selection, we also gained some improvements here.\n",
    "- By using model based feature, even with base model Logistic Regression we get better result."
   ]
  },
  {
   "cell_type": "markdown",
   "id": "a40e74ac",
   "metadata": {
    "papermill": {
     "duration": 0.062598,
     "end_time": "2021-09-23T16:28:09.435339",
     "exception": false,
     "start_time": "2021-09-23T16:28:09.372741",
     "status": "completed"
    },
    "tags": []
   },
   "source": [
    "<a id=\"11\"></a>\n",
    "<font color=\"darkblue\" size=+1.5><b>Conclusion & Which Method is the Best?</b></font>\n",
    "\n",
    "<a href=\"#toc\" class=\"btn btn-primary btn-sm\" role=\"button\" aria-pressed=\"true\" style=\"color:white\" data-toggle=\"popover\">Table of Contents</a>"
   ]
  },
  {
   "cell_type": "markdown",
   "id": "85bcd5f1",
   "metadata": {
    "papermill": {
     "duration": 0.063342,
     "end_time": "2021-09-23T16:28:09.562479",
     "exception": false,
     "start_time": "2021-09-23T16:28:09.499137",
     "status": "completed"
    },
    "tags": []
   },
   "source": [
    "- Traditionaly, feature selection aims to improve accuracy and interpretability  \n",
    "- We can add these aims also algorithmic training time and reducing memory footprint.\n",
    "- Since we are dealing a large samples and thousands and thousand features, feature selection is one of the choice in our hands.\n",
    "- No single data-reduction method can be best suited for all applications. \n",
    "- Available knowledge on the application is the one of the most important things which feature selection is based on.\n",
    "- At the end there is no one best method to offer.\n",
    "- We need to find out best features for our problem by using different methods and algorithms with the systematic experimentation.\n",
    "- Even though in a real life cases, mostly we can not get large gains by applying feature selection, I can assure that it is valuable tool to have in your toolbox.\n"
   ]
  },
  {
   "cell_type": "markdown",
   "id": "6dac4551",
   "metadata": {
    "papermill": {
     "duration": 0.063739,
     "end_time": "2021-09-23T16:28:09.688955",
     "exception": false,
     "start_time": "2021-09-23T16:28:09.625216",
     "status": "completed"
    },
    "tags": []
   },
   "source": [
    "#### **By the way, when you like the topic, you can show it by supporting** 👍\n",
    "\n",
    "####  **Feel free to leave a comment in the notebook**. \n",
    "\n",
    "#### All the best 🤘"
   ]
  },
  {
   "cell_type": "markdown",
   "id": "cba738ec",
   "metadata": {
    "papermill": {
     "duration": 0.062644,
     "end_time": "2021-09-23T16:28:09.814710",
     "exception": false,
     "start_time": "2021-09-23T16:28:09.752066",
     "status": "completed"
    },
    "tags": []
   },
   "source": [
    "- **Enjoy** 🤘"
   ]
  },
  {
   "cell_type": "markdown",
   "id": "685c736e",
   "metadata": {
    "papermill": {
     "duration": 0.11612,
     "end_time": "2021-09-23T16:28:09.993975",
     "exception": false,
     "start_time": "2021-09-23T16:28:09.877855",
     "status": "completed"
    },
    "tags": []
   },
   "source": [
    "![](https://media.giphy.com/media/u1PvrqJWlY4OPSxDJ5/giphy-downsized-large.gif?cid=ecf05e47oo0ggho7d7xjvqnbs372rv1apu2eubitqk0ctt9d&rid=giphy-downsized-large.gif&ct=g)"
   ]
  },
  {
   "cell_type": "markdown",
   "id": "57784c64",
   "metadata": {
    "papermill": {
     "duration": 0.066214,
     "end_time": "2021-09-23T16:28:10.124406",
     "exception": false,
     "start_time": "2021-09-23T16:28:10.058192",
     "status": "completed"
    },
    "tags": []
   },
   "source": [
    "<a id=\"12\"></a>\n",
    "<font color=\"darkblue\" size=+1.5><b>References & Further Reading</b></font>\n",
    "\n",
    "\n",
    "<a href=\"#toc\" class=\"btn btn-primary btn-sm\" role=\"button\" aria-pressed=\"true\" style=\"color:white\" data-toggle=\"popover\">Table of Contents</a>\n",
    "\n",
    "\n",
    "[Machine Learning - Beginner &Intermediate-Friendly BOOKS](https://www.kaggle.com/general/255972)"
   ]
  }
 ],
 "metadata": {
  "kernelspec": {
   "display_name": "Python 3",
   "language": "python",
   "name": "python3"
  },
  "language_info": {
   "codemirror_mode": {
    "name": "ipython",
    "version": 3
   },
   "file_extension": ".py",
   "mimetype": "text/x-python",
   "name": "python",
   "nbconvert_exporter": "python",
   "pygments_lexer": "ipython3",
   "version": "3.7.10"
  },
  "papermill": {
   "default_parameters": {},
   "duration": 22.82699,
   "end_time": "2021-09-23T16:28:11.537604",
   "environment_variables": {},
   "exception": null,
   "input_path": "__notebook__.ipynb",
   "output_path": "__notebook__.ipynb",
   "parameters": {},
   "start_time": "2021-09-23T16:27:48.710614",
   "version": "2.3.3"
  }
 },
 "nbformat": 4,
 "nbformat_minor": 5
}
