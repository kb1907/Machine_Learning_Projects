{
 "cells": [
  {
   "cell_type": "markdown",
   "id": "69e22e90",
   "metadata": {
    "_cell_guid": "b1076dfc-b9ad-4769-8c92-a6c4dae69d19",
    "_uuid": "8f2839f25d086af736a60e9eeb907d3b93b6e0e5",
    "papermill": {
     "duration": 0.012197,
     "end_time": "2021-07-30T09:56:53.470384",
     "exception": false,
     "start_time": "2021-07-30T09:56:53.458187",
     "status": "completed"
    },
    "tags": []
   },
   "source": [
    "Hi all. 👍\n",
    "\n",
    "I am planning to publish the Machine Learning Basic Series, which would help anyone who wants to learn or refresh the basics of ML.\n",
    "\n",
    "In this post, I want to share with you :\n",
    "\n",
    "\n",
    "One of the essential concepts of Machine Learning  Journey  **BIAS & VARIANCE TRADEOFF**\n",
    "\n",
    "In this series, I will focus on the basic concepts with detailed explanations.\n",
    "\n",
    "After finishing the beginner-friendly explanation series, I will publish ML algorithms in action.\n",
    "\n",
    "\n",
    "By the way, when you like the topic, you can show it by supporting 👍\n",
    "\n",
    "All the best 🤘"
   ]
  },
  {
   "cell_type": "markdown",
   "id": "91398ae8",
   "metadata": {
    "papermill": {
     "duration": 0.010395,
     "end_time": "2021-07-30T09:56:53.491920",
     "exception": false,
     "start_time": "2021-07-30T09:56:53.481525",
     "status": "completed"
    },
    "tags": []
   },
   "source": [
    "![](https://miro.medium.com/max/1400/1*FUZS9K4JPqzfXDcC83BQTw.png)"
   ]
  },
  {
   "cell_type": "markdown",
   "id": "c514efb0",
   "metadata": {
    "papermill": {
     "duration": 0.010431,
     "end_time": "2021-07-30T09:56:53.513245",
     "exception": false,
     "start_time": "2021-07-30T09:56:53.502814",
     "status": "completed"
    },
    "tags": []
   },
   "source": [
    "image credit : https://miro.medium.com/"
   ]
  },
  {
   "cell_type": "markdown",
   "id": "44dc0d0e",
   "metadata": {
    "papermill": {
     "duration": 0.010596,
     "end_time": "2021-07-30T09:56:53.534520",
     "exception": false,
     "start_time": "2021-07-30T09:56:53.523924",
     "status": "completed"
    },
    "tags": []
   },
   "source": [
    "### * Basically, in Supervised Learning we aim to build a model on the training data, which can make a prediction on the target variable.\n",
    "### * Aim is to make a best prediction based on the built model.\n",
    "### * If model succeeds to make accurate predictions on the new /untrained/unseen data, generalization can be done from the training data to unseen data."
   ]
  },
  {
   "cell_type": "code",
   "execution_count": null,
   "id": "9641a8d2",
   "metadata": {
    "papermill": {
     "duration": 0.010497,
     "end_time": "2021-07-30T09:56:53.555944",
     "exception": false,
     "start_time": "2021-07-30T09:56:53.545447",
     "status": "completed"
    },
    "tags": []
   },
   "outputs": [],
   "source": []
  },
  {
   "cell_type": "markdown",
   "id": "60bffb94",
   "metadata": {
    "papermill": {
     "duration": 0.010423,
     "end_time": "2021-07-30T09:56:53.578346",
     "exception": false,
     "start_time": "2021-07-30T09:56:53.567923",
     "status": "completed"
    },
    "tags": []
   },
   "source": [
    "![](https://static.javatpoint.com/tutorial/machine-learning/images/supervised-machine-learning.png)"
   ]
  },
  {
   "cell_type": "markdown",
   "id": "af94c441",
   "metadata": {
    "papermill": {
     "duration": 0.010536,
     "end_time": "2021-07-30T09:56:53.599481",
     "exception": false,
     "start_time": "2021-07-30T09:56:53.588945",
     "status": "completed"
    },
    "tags": []
   },
   "source": [
    "Image Credit: https://www.javatpoint.com"
   ]
  },
  {
   "cell_type": "markdown",
   "id": "5bc49c60",
   "metadata": {
    "papermill": {
     "duration": 0.010789,
     "end_time": "2021-07-30T09:56:53.621242",
     "exception": false,
     "start_time": "2021-07-30T09:56:53.610453",
     "status": "completed"
    },
    "tags": []
   },
   "source": [
    "## **Three Types of Errors**:\n",
    "\n",
    "### * **Irreducible Error / Noise**: It is not related to Machine Learning model, it comes from unknown variables or misframed problem statement, etc.\n",
    "\n",
    "### * **Bias**\n",
    "\n",
    "### * **Variance**\n",
    "\n",
    "\n",
    "* Let's see Bias and Variance in detail."
   ]
  },
  {
   "cell_type": "markdown",
   "id": "e0a306e7",
   "metadata": {
    "papermill": {
     "duration": 0.010739,
     "end_time": "2021-07-30T09:56:53.643061",
     "exception": false,
     "start_time": "2021-07-30T09:56:53.632322",
     "status": "completed"
    },
    "tags": []
   },
   "source": [
    "##  *Bias*  \n",
    "\n",
    "- Bias: Difference between our model's prediction and real data.\n",
    "- When the bias is high, which means our model makes simple assumptions and couldn't capture the important features of the data.\n",
    "\n",
    "- When our model couldn't capture the important features of the data, our model also does not able to make good predictions on the test / unseen data.\n",
    "\n",
    "- **At the end we will have high bias, low prediction score but low variance model.**\n",
    "\n",
    "- It is called underfitting "
   ]
  },
  {
   "cell_type": "markdown",
   "id": "ba149065",
   "metadata": {
    "papermill": {
     "duration": 0.010544,
     "end_time": "2021-07-30T09:56:53.664324",
     "exception": false,
     "start_time": "2021-07-30T09:56:53.653780",
     "status": "completed"
    },
    "tags": []
   },
   "source": [
    "#### **Machine Learning Algorithms with High Bias**\n",
    "\n",
    "- Linear Regression\n",
    "- Linear Discriminant Analysis \n",
    "- Logistic Regression"
   ]
  },
  {
   "cell_type": "markdown",
   "id": "140b70c4",
   "metadata": {
    "papermill": {
     "duration": 0.010201,
     "end_time": "2021-07-30T09:56:53.685518",
     "exception": false,
     "start_time": "2021-07-30T09:56:53.675317",
     "status": "completed"
    },
    "tags": []
   },
   "source": [
    "![](https://www.ibm.com/cloud/architecture/images/practices/model-over-fitting.png)"
   ]
  },
  {
   "cell_type": "markdown",
   "id": "0407bbcc",
   "metadata": {
    "papermill": {
     "duration": 0.010867,
     "end_time": "2021-07-30T09:56:53.707093",
     "exception": false,
     "start_time": "2021-07-30T09:56:53.696226",
     "status": "completed"
    },
    "tags": []
   },
   "source": [
    "Image Credit: https://www.ibm.com"
   ]
  },
  {
   "cell_type": "markdown",
   "id": "35e3826e",
   "metadata": {
    "papermill": {
     "duration": 0.011087,
     "end_time": "2021-07-30T09:56:53.728983",
     "exception": false,
     "start_time": "2021-07-30T09:56:53.717896",
     "status": "completed"
    },
    "tags": []
   },
   "source": [
    "###  *Variance:*\n",
    "\n",
    "\n",
    "*Variance:*  It is kind of opposite of the bias. Variance tells us about how spread our data.\n",
    "    \n",
    "- When the variance is high, which means our model makes complex assumptions and capture almost all the features of the data.\n",
    "\n",
    "- Important point to remember, our main priority is not the get perfect accuracy on the training data, getting 100% accuracy on the training data is not our aim.\n",
    "\n",
    "- We aim to make a good predictions on the test / unseen data.\n",
    "\n",
    "- **At the end we will have high variance, low prediction score but low bias model.**\n",
    "\n",
    "- It is called overfitting. Our model overfit to training data and captures almost evrything on the training data."
   ]
  },
  {
   "cell_type": "markdown",
   "id": "07ae25fe",
   "metadata": {
    "papermill": {
     "duration": 0.010497,
     "end_time": "2021-07-30T09:56:53.750503",
     "exception": false,
     "start_time": "2021-07-30T09:56:53.740006",
     "status": "completed"
    },
    "tags": []
   },
   "source": [
    "#### **Machine Learning Algorithms with Low Bias**\n",
    "\n",
    "- Decision Trees\n",
    "- K-Nearest Neighbors\n",
    "- Support Vector Machines"
   ]
  },
  {
   "cell_type": "markdown",
   "id": "79471e6e",
   "metadata": {
    "papermill": {
     "duration": 0.010709,
     "end_time": "2021-07-30T09:56:53.771965",
     "exception": false,
     "start_time": "2021-07-30T09:56:53.761256",
     "status": "completed"
    },
    "tags": []
   },
   "source": [
    "- Let's see what we have mentioned till now in the following cheat-sheet."
   ]
  },
  {
   "cell_type": "markdown",
   "id": "b9e37475",
   "metadata": {
    "papermill": {
     "duration": 0.01034,
     "end_time": "2021-07-30T09:56:53.793706",
     "exception": false,
     "start_time": "2021-07-30T09:56:53.783366",
     "status": "completed"
    },
    "tags": []
   },
   "source": [
    "![](https://miro.medium.com/max/875/1*gt38bg0Um9qwc4fi0_n9_Q.png)"
   ]
  },
  {
   "cell_type": "markdown",
   "id": "39c80974",
   "metadata": {
    "papermill": {
     "duration": 0.010549,
     "end_time": "2021-07-30T09:56:53.815817",
     "exception": false,
     "start_time": "2021-07-30T09:56:53.805268",
     "status": "completed"
    },
    "tags": []
   },
   "source": [
    "Image Credit: www.cheatsheets.aqeel-anwar.com"
   ]
  },
  {
   "cell_type": "markdown",
   "id": "623d11a6",
   "metadata": {
    "papermill": {
     "duration": 0.011396,
     "end_time": "2021-07-30T09:56:53.838423",
     "exception": false,
     "start_time": "2021-07-30T09:56:53.827027",
     "status": "completed"
    },
    "tags": []
   },
   "source": [
    "#### **Further Reading:**\n",
    "\n",
    "* Introduction to Machine Learning with Python (by Guido & Muller)\n",
    " https://www.amazon.com/Introduction-Machine-Learning-Python-Scientists/dp/1449369413\n",
    "\n",
    "* https://en.wikipedia.org/wiki/Bias%E2%80%93variance_tradeoff\n",
    "\n",
    "\n"
   ]
  },
  {
   "cell_type": "markdown",
   "id": "df5ffd3e",
   "metadata": {
    "papermill": {
     "duration": 0.010722,
     "end_time": "2021-07-30T09:56:53.860433",
     "exception": false,
     "start_time": "2021-07-30T09:56:53.849711",
     "status": "completed"
    },
    "tags": []
   },
   "source": [
    "In this study, we focus on the **Bias & Variance Trade Off** and also **Overfitting & Underfitting**.\n",
    "\n",
    "After finishing the beginner-friendly explanation series, I will publish ML algorithms in action.\n",
    "\n",
    "\n",
    "By the way, when you like the topic, you can show it by supporting 👍\n",
    "\n",
    "All the best 🤘"
   ]
  },
  {
   "cell_type": "code",
   "execution_count": null,
   "id": "6fff5ecd",
   "metadata": {
    "papermill": {
     "duration": 0.010886,
     "end_time": "2021-07-30T09:56:53.883121",
     "exception": false,
     "start_time": "2021-07-30T09:56:53.872235",
     "status": "completed"
    },
    "tags": []
   },
   "outputs": [],
   "source": []
  }
 ],
 "metadata": {
  "kernelspec": {
   "display_name": "Python 3",
   "language": "python",
   "name": "python3"
  },
  "language_info": {
   "codemirror_mode": {
    "name": "ipython",
    "version": 3
   },
   "file_extension": ".py",
   "mimetype": "text/x-python",
   "name": "python",
   "nbconvert_exporter": "python",
   "pygments_lexer": "ipython3",
   "version": "3.7.10"
  },
  "papermill": {
   "default_parameters": {},
   "duration": 9.581773,
   "end_time": "2021-07-30T09:56:54.608213",
   "environment_variables": {},
   "exception": null,
   "input_path": "__notebook__.ipynb",
   "output_path": "__notebook__.ipynb",
   "parameters": {},
   "start_time": "2021-07-30T09:56:45.026440",
   "version": "2.3.3"
  }
 },
 "nbformat": 4,
 "nbformat_minor": 5
}
