{
 "cells": [
  {
   "cell_type": "markdown",
   "id": "1cf1dff4",
   "metadata": {
    "_cell_guid": "b1076dfc-b9ad-4769-8c92-a6c4dae69d19",
    "_uuid": "8f2839f25d086af736a60e9eeb907d3b93b6e0e5",
    "execution": {
     "iopub.execute_input": "2021-08-13T06:21:01.619764Z",
     "iopub.status.busy": "2021-08-13T06:21:01.619374Z",
     "iopub.status.idle": "2021-08-13T06:21:01.633126Z",
     "shell.execute_reply": "2021-08-13T06:21:01.631814Z",
     "shell.execute_reply.started": "2021-08-13T06:21:01.619681Z"
    },
    "papermill": {
     "duration": 0.038306,
     "end_time": "2021-08-13T15:21:18.658034",
     "exception": false,
     "start_time": "2021-08-13T15:21:18.619728",
     "status": "completed"
    },
    "tags": []
   },
   "source": [
    "#### Hi all.  🙋•♂️ \n",
    "\n",
    "​\n",
    "#### We continue our **Beginner-Intermediate Friendly Machine Learning series**, which would help anyone who wants to learn or refresh the basics of ML.\n",
    "​\n",
    "#### What we have covered: \n",
    "\n",
    "#### [Beginner Friendly Detailed Explained EDAs – For anyone at the beginnings of DS/ML journey](https://www.kaggle.com/general/253911#1393015) ✔️\n",
    "​\n",
    "#### [BIAS & VARIANCE TRADEOFF](https://www.kaggle.com/kaanboke/ml-basics-bias-variance-tradeoff) ✔️\n",
    "​\n",
    "#### [LINEAR ALGORITHMS](https://www.kaggle.com/kaanboke/ml-basics-linear-algorithms)  ✔️\n",
    "​\n",
    "#### [NONLINEAR ALGORITHMS](https://www.kaggle.com/kaanboke/nonlinear-algorithms)  ✔️\n",
    "​\n",
    "#### [The Most Used Methods to Deal with MISSING VALUES](https://www.kaggle.com/kaanboke/the-most-used-methods-to-deal-with-missing-values)  ✔️\n",
    "​\n",
    "#### [Beginner Friendly End to End ML Project- Classification with Imbalanced Data](https://www.kaggle.com/kaanboke/beginner-friendly-end-to-end-ml-project-enjoy)  ✔️\n",
    "​\n",
    "#### Today we will cover one of the main problems of the data preprocessing : **Data Leakage**"
   ]
  },
  {
   "cell_type": "markdown",
   "id": "8b7fbd72",
   "metadata": {
    "papermill": {
     "duration": 0.035525,
     "end_time": "2021-08-13T15:21:18.729756",
     "exception": false,
     "start_time": "2021-08-13T15:21:18.694231",
     "status": "completed"
    },
    "tags": []
   },
   "source": [
    "#### **By the way, when you like the topic, you can show it by supporting** 👍\n",
    "\n",
    "####  **Feel free to leave a comment in the notebook**. \n",
    "\n",
    "\n",
    "#### All the best 🤘"
   ]
  },
  {
   "cell_type": "markdown",
   "id": "44909d1d",
   "metadata": {
    "papermill": {
     "duration": 0.036288,
     "end_time": "2021-08-13T15:21:18.801884",
     "exception": false,
     "start_time": "2021-08-13T15:21:18.765596",
     "status": "completed"
    },
    "tags": []
   },
   "source": [
    "![](https://miro.medium.com/max/1400/1*FUZS9K4JPqzfXDcC83BQTw.png)"
   ]
  },
  {
   "cell_type": "markdown",
   "id": "0f63d3c0",
   "metadata": {
    "execution": {
     "iopub.execute_input": "2021-08-13T06:22:01.220163Z",
     "iopub.status.busy": "2021-08-13T06:22:01.219768Z",
     "iopub.status.idle": "2021-08-13T06:22:01.2262Z",
     "shell.execute_reply": "2021-08-13T06:22:01.224934Z",
     "shell.execute_reply.started": "2021-08-13T06:22:01.220125Z"
    },
    "papermill": {
     "duration": 0.034543,
     "end_time": "2021-08-13T15:21:18.871177",
     "exception": false,
     "start_time": "2021-08-13T15:21:18.836634",
     "status": "completed"
    },
    "tags": []
   },
   "source": [
    "Image Credit: https://miro.medium.com/"
   ]
  },
  {
   "cell_type": "markdown",
   "id": "e96f446c",
   "metadata": {
    "papermill": {
     "duration": 0.035175,
     "end_time": "2021-08-13T15:21:18.941484",
     "exception": false,
     "start_time": "2021-08-13T15:21:18.906309",
     "status": "completed"
    },
    "tags": []
   },
   "source": [
    "<a id=\"toc\"></a>\n",
    "\n",
    "<h3 class=\"list-group-item list-group-item-action active\" data-toggle=\"list\" role=\"tab\" aria-controls=\"home\">Table of Contents</h3>\n",
    "    \n",
    "* [Data Leakage](#0)\n",
    "* [Target Leakage](#1)\n",
    "* [Training- Test Leakage](#2)\n",
    "* [How to Deal With Data Leakage](#3)\n",
    "* [Is Cross Validation Enough to Handle Data Leakage?](#4)\n",
    "* [Where is the Data Leakage?](#5)\n",
    "* [Using Pipeline](#6)\n",
    "* [Cross-Validation & Pipeline- Correct Data Preparation](#7)\n",
    "* [Conclusion](#8)\n",
    "* [References & Further Reading](#9)"
   ]
  },
  {
   "cell_type": "markdown",
   "id": "b405e3aa",
   "metadata": {
    "papermill": {
     "duration": 0.034395,
     "end_time": "2021-08-13T15:21:19.011678",
     "exception": false,
     "start_time": "2021-08-13T15:21:18.977283",
     "status": "completed"
    },
    "tags": []
   },
   "source": [
    "<a id=\"0\"></a>\n",
    "<font color=\"lightseagreen\" size=+2.5><b>Data Leakage</b></font>\n",
    "\n",
    "\n",
    "<a href=\"#toc\" class=\"btn btn-primary btn-sm\" role=\"button\" aria-pressed=\"true\" style=\"color:white\" data-toggle=\"popover\">Table of Contents</a>"
   ]
  },
  {
   "cell_type": "markdown",
   "id": "9ad6b50a",
   "metadata": {
    "papermill": {
     "duration": 0.034445,
     "end_time": "2021-08-13T15:21:19.080836",
     "exception": false,
     "start_time": "2021-08-13T15:21:19.046391",
     "status": "completed"
    },
    "tags": []
   },
   "source": [
    "> In statistics and machine learning, leakage (also known as data leakage or target leakage) is the use of information in the model training process which would not be expected to be available at prediction time, causing the predictive scores (metrics) to overestimate the model's utility when run in a production environment.\n",
    "\n",
    "> Leakage is often subtle and indirect, making it hard to detect and eliminate. Leakage can cause a statistician or modeler to select a suboptimal model, which could be outperformed by a leakage-free model. \n",
    "\n",
    "Reference: https://en.wikipedia.org/wiki/Leakage_(machine_learning)"
   ]
  },
  {
   "cell_type": "markdown",
   "id": "d5be1f1a",
   "metadata": {
    "papermill": {
     "duration": 0.034462,
     "end_time": "2021-08-13T15:21:19.150055",
     "exception": false,
     "start_time": "2021-08-13T15:21:19.115593",
     "status": "completed"
    },
    "tags": []
   },
   "source": [
    "![](https://smartwatermagazine.com/sites/default/files/styles/thumbnail-1180x647/public/water-pipe-2.jpg)"
   ]
  },
  {
   "cell_type": "markdown",
   "id": "93a84145",
   "metadata": {
    "papermill": {
     "duration": 0.034753,
     "end_time": "2021-08-13T15:21:19.220378",
     "exception": false,
     "start_time": "2021-08-13T15:21:19.185625",
     "status": "completed"
    },
    "tags": []
   },
   "source": [
    "Image credit: https://smartwatermagazine.com/blogs/victoria-edwards/bunker-mentality-will-never-solve-worlds-water-leakage-problem"
   ]
  },
  {
   "cell_type": "code",
   "execution_count": 1,
   "id": "b97b7ff4",
   "metadata": {
    "_kg_hide-input": true,
    "execution": {
     "iopub.execute_input": "2021-08-13T15:21:19.302974Z",
     "iopub.status.busy": "2021-08-13T15:21:19.299003Z",
     "iopub.status.idle": "2021-08-13T15:21:20.459494Z",
     "shell.execute_reply": "2021-08-13T15:21:20.458610Z",
     "shell.execute_reply.started": "2021-08-13T15:06:36.783158Z"
    },
    "papermill": {
     "duration": 1.203858,
     "end_time": "2021-08-13T15:21:20.459665",
     "exception": false,
     "start_time": "2021-08-13T15:21:19.255807",
     "status": "completed"
    },
    "tags": []
   },
   "outputs": [],
   "source": [
    "import pandas as pd \n",
    "import numpy as np \n",
    "\n",
    "from sklearn.model_selection import train_test_split,RepeatedStratifiedKFold,cross_val_score\n",
    "from sklearn.impute import SimpleImputer\n",
    "from sklearn.pipeline import Pipeline\n",
    "from sklearn.linear_model import LogisticRegression\n",
    "from sklearn.preprocessing import MinMaxScaler,PowerTransformer,OneHotEncoder\n",
    "from sklearn.compose import ColumnTransformer\n",
    "\n",
    "\n",
    "import warnings\n",
    "warnings.filterwarnings(\"ignore\")"
   ]
  },
  {
   "cell_type": "markdown",
   "id": "4206bfae",
   "metadata": {
    "execution": {
     "iopub.execute_input": "2021-08-13T07:23:34.259979Z",
     "iopub.status.busy": "2021-08-13T07:23:34.259198Z",
     "iopub.status.idle": "2021-08-13T07:23:34.272833Z",
     "shell.execute_reply": "2021-08-13T07:23:34.271009Z",
     "shell.execute_reply.started": "2021-08-13T07:23:34.259882Z"
    },
    "papermill": {
     "duration": 0.034693,
     "end_time": "2021-08-13T15:21:20.530330",
     "exception": false,
     "start_time": "2021-08-13T15:21:20.495637",
     "status": "completed"
    },
    "tags": []
   },
   "source": [
    "<a id=\"1\"></a>\n",
    "<font color=\"lightseagreen\" size=+2.5><b>Target Leakage</b></font>\n",
    "\n",
    "\n",
    "<a href=\"#toc\" class=\"btn btn-primary btn-sm\" role=\"button\" aria-pressed=\"true\" style=\"color:white\" data-toggle=\"popover\">Table of Contents</a>"
   ]
  },
  {
   "cell_type": "markdown",
   "id": "e0bb8e58",
   "metadata": {
    "papermill": {
     "duration": 0.03488,
     "end_time": "2021-08-13T15:21:20.600633",
     "exception": false,
     "start_time": "2021-08-13T15:21:20.565753",
     "status": "completed"
    },
    "tags": []
   },
   "source": [
    "- In the prediction modeling, we want get the best prediction on the target variable.\n",
    "- When we use the information, which shouldn't be expected to be present in the training, it causes the mess.\n",
    "- Let me give examples to clarify the issue."
   ]
  },
  {
   "cell_type": "markdown",
   "id": "65853e7d",
   "metadata": {
    "papermill": {
     "duration": 0.034605,
     "end_time": "2021-08-13T15:21:20.670387",
     "exception": false,
     "start_time": "2021-08-13T15:21:20.635782",
     "status": "completed"
    },
    "tags": []
   },
   "source": [
    "#### Credit Card Application:\n",
    "\n",
    "- If we want to predict whether person receive a card or not \n",
    "- And we have a feature so called, 'paid_by_card'\n",
    "- We have to examine that, whether these payment were made by the card in question or not?\n",
    "- Don't think it is exaggerated, you will see a lot of similar examples, in your data science career."
   ]
  },
  {
   "cell_type": "markdown",
   "id": "42bddbca",
   "metadata": {
    "papermill": {
     "duration": 0.034553,
     "end_time": "2021-08-13T15:21:20.740106",
     "exception": false,
     "start_time": "2021-08-13T15:21:20.705553",
     "status": "completed"
    },
    "tags": []
   },
   "source": [
    "- For further discussion on the target data leakage and different examples please refer to: https://www.researchgate.net/publication/221653692_Leakage_in_Data_Mining_Formulation_Detection_and_Avoidance"
   ]
  },
  {
   "cell_type": "markdown",
   "id": "7c716024",
   "metadata": {
    "papermill": {
     "duration": 0.034473,
     "end_time": "2021-08-13T15:21:20.809563",
     "exception": false,
     "start_time": "2021-08-13T15:21:20.775090",
     "status": "completed"
    },
    "tags": []
   },
   "source": [
    "<a id=\"2\"></a>\n",
    "<font color=\"lightseagreen\" size=+2.5><b>Training- Test Leakage</b></font>\n",
    "\n",
    "\n",
    "<a href=\"#toc\" class=\"btn btn-primary btn-sm\" role=\"button\" aria-pressed=\"true\" style=\"color:white\" data-toggle=\"popover\">Table of Contents</a>"
   ]
  },
  {
   "cell_type": "markdown",
   "id": "94f6ef2b",
   "metadata": {
    "papermill": {
     "duration": 0.034665,
     "end_time": "2021-08-13T15:21:20.879081",
     "exception": false,
     "start_time": "2021-08-13T15:21:20.844416",
     "status": "completed"
    },
    "tags": []
   },
   "source": [
    "### Time Related Issues:"
   ]
  },
  {
   "cell_type": "markdown",
   "id": "a4983fa6",
   "metadata": {
    "papermill": {
     "duration": 0.034439,
     "end_time": "2021-08-13T15:21:20.948281",
     "exception": false,
     "start_time": "2021-08-13T15:21:20.913842",
     "status": "completed"
    },
    "tags": []
   },
   "source": [
    "- Imagine we are dealing with the sale price.\n",
    "- We have a data between 2015-2020 sale prices.\n",
    "- If we randomly divide these years between test and training datsets, \n",
    "- We will inform the training data about the test data and also make useless our timeseries analysis."
   ]
  },
  {
   "cell_type": "markdown",
   "id": "5ec725d6",
   "metadata": {
    "execution": {
     "iopub.execute_input": "2021-08-13T08:16:50.689647Z",
     "iopub.status.busy": "2021-08-13T08:16:50.689117Z",
     "iopub.status.idle": "2021-08-13T08:16:50.694629Z",
     "shell.execute_reply": "2021-08-13T08:16:50.693521Z",
     "shell.execute_reply.started": "2021-08-13T08:16:50.689602Z"
    },
    "papermill": {
     "duration": 0.03472,
     "end_time": "2021-08-13T15:21:21.017727",
     "exception": false,
     "start_time": "2021-08-13T15:21:20.983007",
     "status": "completed"
    },
    "tags": []
   },
   "source": [
    "### Data Preprocessing Issues:"
   ]
  },
  {
   "cell_type": "markdown",
   "id": "88f029ed",
   "metadata": {
    "execution": {
     "iopub.execute_input": "2021-08-13T08:21:08.736919Z",
     "iopub.status.busy": "2021-08-13T08:21:08.736531Z",
     "iopub.status.idle": "2021-08-13T08:21:08.742894Z",
     "shell.execute_reply": "2021-08-13T08:21:08.741488Z",
     "shell.execute_reply.started": "2021-08-13T08:21:08.736889Z"
    },
    "papermill": {
     "duration": 0.035773,
     "end_time": "2021-08-13T15:21:21.089044",
     "exception": false,
     "start_time": "2021-08-13T15:21:21.053271",
     "status": "completed"
    },
    "tags": []
   },
   "source": [
    "- All the preprocessing should be done with training data !!!\n",
    "- Featuring, scaling, normalization, missing value imputations, categorical value coding, etc."
   ]
  },
  {
   "cell_type": "markdown",
   "id": "0b187ac2",
   "metadata": {
    "execution": {
     "iopub.execute_input": "2021-08-13T08:22:36.168264Z",
     "iopub.status.busy": "2021-08-13T08:22:36.167935Z",
     "iopub.status.idle": "2021-08-13T08:22:36.174561Z",
     "shell.execute_reply": "2021-08-13T08:22:36.173173Z",
     "shell.execute_reply.started": "2021-08-13T08:22:36.168235Z"
    },
    "papermill": {
     "duration": 0.034482,
     "end_time": "2021-08-13T15:21:21.158238",
     "exception": false,
     "start_time": "2021-08-13T15:21:21.123756",
     "status": "completed"
    },
    "tags": []
   },
   "source": [
    "<a id=\"3\"></a>\n",
    "<font color=\"lightseagreen\" size=+2.5><b>How to Deal With Data Leakage</b></font>\n",
    "\n",
    "\n",
    "<a href=\"#toc\" class=\"btn btn-primary btn-sm\" role=\"button\" aria-pressed=\"true\" style=\"color:white\" data-toggle=\"popover\">Table of Contents</a>"
   ]
  },
  {
   "cell_type": "markdown",
   "id": "b12d3185",
   "metadata": {
    "execution": {
     "iopub.execute_input": "2021-08-13T08:26:07.457218Z",
     "iopub.status.busy": "2021-08-13T08:26:07.456874Z",
     "iopub.status.idle": "2021-08-13T08:26:07.462889Z",
     "shell.execute_reply": "2021-08-13T08:26:07.461681Z",
     "shell.execute_reply.started": "2021-08-13T08:26:07.457189Z"
    },
    "papermill": {
     "duration": 0.034336,
     "end_time": "2021-08-13T15:21:21.227429",
     "exception": false,
     "start_time": "2021-08-13T15:21:21.193093",
     "status": "completed"
    },
    "tags": []
   },
   "source": [
    "- Remove leaky variables\n",
    "   - As we have mentioned in the credit card application prediction model, \n",
    "   - If we want to get minimze the contamination\n",
    "   - We have to remove 'fishy' variable 'paid_by_card' from our model.\n",
    "- Use cross validation\n",
    "-Use pipelines"
   ]
  },
  {
   "cell_type": "markdown",
   "id": "b2ff998d",
   "metadata": {
    "papermill": {
     "duration": 0.034518,
     "end_time": "2021-08-13T15:21:21.296561",
     "exception": false,
     "start_time": "2021-08-13T15:21:21.262043",
     "status": "completed"
    },
    "tags": []
   },
   "source": [
    "- In this study we will focus on data preparation part of the data leakage."
   ]
  },
  {
   "cell_type": "markdown",
   "id": "fb297b05",
   "metadata": {
    "execution": {
     "iopub.execute_input": "2021-08-13T08:29:24.945432Z",
     "iopub.status.busy": "2021-08-13T08:29:24.944946Z",
     "iopub.status.idle": "2021-08-13T08:29:24.951425Z",
     "shell.execute_reply": "2021-08-13T08:29:24.950387Z",
     "shell.execute_reply.started": "2021-08-13T08:29:24.945397Z"
    },
    "papermill": {
     "duration": 0.034585,
     "end_time": "2021-08-13T15:21:21.366042",
     "exception": false,
     "start_time": "2021-08-13T15:21:21.331457",
     "status": "completed"
    },
    "tags": []
   },
   "source": [
    "<a id=\"4\"></a>\n",
    "<font color=\"lightseagreen\" size=+2.5><b>Is Cross Validation Enough to Handle Data Leakage?</b></font>\n",
    "\n",
    "\n",
    "<a href=\"#toc\" class=\"btn btn-primary btn-sm\" role=\"button\" aria-pressed=\"true\" style=\"color:white\" data-toggle=\"popover\">Table of Contents</a>"
   ]
  },
  {
   "cell_type": "markdown",
   "id": "8df1cd12",
   "metadata": {
    "papermill": {
     "duration": 0.034504,
     "end_time": "2021-08-13T15:21:21.435214",
     "exception": false,
     "start_time": "2021-08-13T15:21:21.400710",
     "status": "completed"
    },
    "tags": []
   },
   "source": [
    "- By using K-fold cross-validation, we  split the data k non-overlapping groups of rows. \n",
    "- And then our model is trained on the training dataset \n",
    "- And then our model is evaluated on the held-out fold. \n",
    "- For the data leakage part, we use train and test/validation seperately.\n"
   ]
  },
  {
   "cell_type": "markdown",
   "id": "b7a8a0c2",
   "metadata": {
    "papermill": {
     "duration": 0.035423,
     "end_time": "2021-08-13T15:21:21.506250",
     "exception": false,
     "start_time": "2021-08-13T15:21:21.470827",
     "status": "completed"
    },
    "tags": []
   },
   "source": [
    "- Ok let's see everything in the action."
   ]
  },
  {
   "cell_type": "code",
   "execution_count": 2,
   "id": "af2f8b1a",
   "metadata": {
    "execution": {
     "iopub.execute_input": "2021-08-13T15:21:21.581723Z",
     "iopub.status.busy": "2021-08-13T15:21:21.581082Z",
     "iopub.status.idle": "2021-08-13T15:21:21.650057Z",
     "shell.execute_reply": "2021-08-13T15:21:21.649379Z",
     "shell.execute_reply.started": "2021-08-13T15:06:36.796213Z"
    },
    "papermill": {
     "duration": 0.109001,
     "end_time": "2021-08-13T15:21:21.650206",
     "exception": false,
     "start_time": "2021-08-13T15:21:21.541205",
     "status": "completed"
    },
    "tags": []
   },
   "outputs": [
    {
     "data": {
      "text/html": [
       "<div>\n",
       "<style scoped>\n",
       "    .dataframe tbody tr th:only-of-type {\n",
       "        vertical-align: middle;\n",
       "    }\n",
       "\n",
       "    .dataframe tbody tr th {\n",
       "        vertical-align: top;\n",
       "    }\n",
       "\n",
       "    .dataframe thead th {\n",
       "        text-align: right;\n",
       "    }\n",
       "</style>\n",
       "<table border=\"1\" class=\"dataframe\">\n",
       "  <thead>\n",
       "    <tr style=\"text-align: right;\">\n",
       "      <th></th>\n",
       "      <th>ph</th>\n",
       "      <th>Hardness</th>\n",
       "      <th>Solids</th>\n",
       "      <th>Chloramines</th>\n",
       "      <th>Sulfate</th>\n",
       "      <th>Conductivity</th>\n",
       "      <th>Organic_carbon</th>\n",
       "      <th>Trihalomethanes</th>\n",
       "      <th>Turbidity</th>\n",
       "      <th>Potability</th>\n",
       "    </tr>\n",
       "  </thead>\n",
       "  <tbody>\n",
       "    <tr>\n",
       "      <th>0</th>\n",
       "      <td>NaN</td>\n",
       "      <td>204.890455</td>\n",
       "      <td>20791.318981</td>\n",
       "      <td>7.300212</td>\n",
       "      <td>368.516441</td>\n",
       "      <td>564.308654</td>\n",
       "      <td>10.379783</td>\n",
       "      <td>86.990970</td>\n",
       "      <td>2.963135</td>\n",
       "      <td>0</td>\n",
       "    </tr>\n",
       "    <tr>\n",
       "      <th>1</th>\n",
       "      <td>3.716080</td>\n",
       "      <td>129.422921</td>\n",
       "      <td>18630.057858</td>\n",
       "      <td>6.635246</td>\n",
       "      <td>NaN</td>\n",
       "      <td>592.885359</td>\n",
       "      <td>15.180013</td>\n",
       "      <td>56.329076</td>\n",
       "      <td>4.500656</td>\n",
       "      <td>0</td>\n",
       "    </tr>\n",
       "    <tr>\n",
       "      <th>2</th>\n",
       "      <td>8.099124</td>\n",
       "      <td>224.236259</td>\n",
       "      <td>19909.541732</td>\n",
       "      <td>9.275884</td>\n",
       "      <td>NaN</td>\n",
       "      <td>418.606213</td>\n",
       "      <td>16.868637</td>\n",
       "      <td>66.420093</td>\n",
       "      <td>3.055934</td>\n",
       "      <td>0</td>\n",
       "    </tr>\n",
       "    <tr>\n",
       "      <th>3</th>\n",
       "      <td>8.316766</td>\n",
       "      <td>214.373394</td>\n",
       "      <td>22018.417441</td>\n",
       "      <td>8.059332</td>\n",
       "      <td>356.886136</td>\n",
       "      <td>363.266516</td>\n",
       "      <td>18.436524</td>\n",
       "      <td>100.341674</td>\n",
       "      <td>4.628771</td>\n",
       "      <td>0</td>\n",
       "    </tr>\n",
       "    <tr>\n",
       "      <th>4</th>\n",
       "      <td>9.092223</td>\n",
       "      <td>181.101509</td>\n",
       "      <td>17978.986339</td>\n",
       "      <td>6.546600</td>\n",
       "      <td>310.135738</td>\n",
       "      <td>398.410813</td>\n",
       "      <td>11.558279</td>\n",
       "      <td>31.997993</td>\n",
       "      <td>4.075075</td>\n",
       "      <td>0</td>\n",
       "    </tr>\n",
       "  </tbody>\n",
       "</table>\n",
       "</div>"
      ],
      "text/plain": [
       "         ph    Hardness        Solids  Chloramines     Sulfate  Conductivity  \\\n",
       "0       NaN  204.890455  20791.318981     7.300212  368.516441    564.308654   \n",
       "1  3.716080  129.422921  18630.057858     6.635246         NaN    592.885359   \n",
       "2  8.099124  224.236259  19909.541732     9.275884         NaN    418.606213   \n",
       "3  8.316766  214.373394  22018.417441     8.059332  356.886136    363.266516   \n",
       "4  9.092223  181.101509  17978.986339     6.546600  310.135738    398.410813   \n",
       "\n",
       "   Organic_carbon  Trihalomethanes  Turbidity  Potability  \n",
       "0       10.379783        86.990970   2.963135           0  \n",
       "1       15.180013        56.329076   4.500656           0  \n",
       "2       16.868637        66.420093   3.055934           0  \n",
       "3       18.436524       100.341674   4.628771           0  \n",
       "4       11.558279        31.997993   4.075075           0  "
      ]
     },
     "execution_count": 2,
     "metadata": {},
     "output_type": "execute_result"
    }
   ],
   "source": [
    "df = pd.read_csv('../input/water-potability/water_potability.csv')\n",
    "df.head()"
   ]
  },
  {
   "cell_type": "markdown",
   "id": "f55c2ae6",
   "metadata": {
    "papermill": {
     "duration": 0.034795,
     "end_time": "2021-08-13T15:21:21.721242",
     "exception": false,
     "start_time": "2021-08-13T15:21:21.686447",
     "status": "completed"
    },
    "tags": []
   },
   "source": [
    "### We have already worked on this data. I am not going to make a detailed analysis on this data. Please refer to [The Most Used Methods to Deal with MISSING VALUES](https://www.kaggle.com/kaanboke/the-most-used-methods-to-deal-with-missing-values)"
   ]
  },
  {
   "cell_type": "code",
   "execution_count": 3,
   "id": "ca8ddd9f",
   "metadata": {
    "execution": {
     "iopub.execute_input": "2021-08-13T15:21:21.797444Z",
     "iopub.status.busy": "2021-08-13T15:21:21.796489Z",
     "iopub.status.idle": "2021-08-13T15:21:21.803873Z",
     "shell.execute_reply": "2021-08-13T15:21:21.803349Z",
     "shell.execute_reply.started": "2021-08-13T15:06:36.855444Z"
    },
    "papermill": {
     "duration": 0.047569,
     "end_time": "2021-08-13T15:21:21.804026",
     "exception": false,
     "start_time": "2021-08-13T15:21:21.756457",
     "status": "completed"
    },
    "tags": []
   },
   "outputs": [
    {
     "data": {
      "text/plain": [
       "ph                 491\n",
       "Hardness             0\n",
       "Solids               0\n",
       "Chloramines          0\n",
       "Sulfate            781\n",
       "Conductivity         0\n",
       "Organic_carbon       0\n",
       "Trihalomethanes    162\n",
       "Turbidity            0\n",
       "Potability           0\n",
       "dtype: int64"
      ]
     },
     "execution_count": 3,
     "metadata": {},
     "output_type": "execute_result"
    }
   ],
   "source": [
    "df.isnull().sum()"
   ]
  },
  {
   "cell_type": "markdown",
   "id": "90c0c6d2",
   "metadata": {
    "papermill": {
     "duration": 0.035239,
     "end_time": "2021-08-13T15:21:21.874858",
     "exception": false,
     "start_time": "2021-08-13T15:21:21.839619",
     "status": "completed"
    },
    "tags": []
   },
   "source": [
    "- Ok we have mising values, and most of the machine learning algorithm can not tolerate the missing values \n",
    "- and we have to handle it.\n",
    "- Let's use mean imputation and by using Cross Validation evaluate our Logistic Regression model."
   ]
  },
  {
   "cell_type": "markdown",
   "id": "66ce741b",
   "metadata": {
    "papermill": {
     "duration": 0.035846,
     "end_time": "2021-08-13T15:21:21.946133",
     "exception": false,
     "start_time": "2021-08-13T15:21:21.910287",
     "status": "completed"
    },
    "tags": []
   },
   "source": [
    "- First we fill the missing variable, by using each variable seperately."
   ]
  },
  {
   "cell_type": "code",
   "execution_count": 4,
   "id": "99d665f8",
   "metadata": {
    "execution": {
     "iopub.execute_input": "2021-08-13T15:21:22.025527Z",
     "iopub.status.busy": "2021-08-13T15:21:22.024713Z",
     "iopub.status.idle": "2021-08-13T15:21:24.371560Z",
     "shell.execute_reply": "2021-08-13T15:21:24.371026Z",
     "shell.execute_reply.started": "2021-08-13T15:06:36.872448Z"
    },
    "papermill": {
     "duration": 2.38983,
     "end_time": "2021-08-13T15:21:24.371722",
     "exception": false,
     "start_time": "2021-08-13T15:21:21.981892",
     "status": "completed"
    },
    "tags": []
   },
   "outputs": [
    {
     "name": "stdout",
     "output_type": "stream",
     "text": [
      "0.503975\n"
     ]
    }
   ],
   "source": [
    "df = pd.read_csv('../input/water-potability/water_potability.csv')\n",
    "df['ph']= df['ph'].fillna(df['ph'].median())\n",
    "df['Sulfate']= df['Sulfate'].fillna(df['Sulfate'].median())\n",
    "df['Trihalomethanes']= df['Trihalomethanes'].fillna(df['Trihalomethanes'].median())\n",
    "\n",
    "\n",
    "X = df.drop('Potability', axis=1)\n",
    "y = df['Potability']\n",
    "\n",
    "scaler = MinMaxScaler()\n",
    "X = scaler.fit_transform(X)\n",
    "\n",
    "model = LogisticRegression(solver='liblinear')\n",
    "\n",
    "cv = RepeatedStratifiedKFold(n_splits=10, n_repeats=3, random_state=42)\n",
    "\n",
    "result = cross_val_score(model, X, y,  scoring='roc_auc',cv=cv, n_jobs=-1)\n",
    "\n",
    "print(f'{round(np.mean(result),6)}')"
   ]
  },
  {
   "cell_type": "markdown",
   "id": "19591416",
   "metadata": {
    "papermill": {
     "duration": 0.035575,
     "end_time": "2021-08-13T15:21:24.443555",
     "exception": false,
     "start_time": "2021-08-13T15:21:24.407980",
     "status": "completed"
    },
    "tags": []
   },
   "source": [
    "- We fill the missing values by using Simple Imputer."
   ]
  },
  {
   "cell_type": "code",
   "execution_count": 5,
   "id": "5d30cdec",
   "metadata": {
    "execution": {
     "iopub.execute_input": "2021-08-13T15:21:24.524417Z",
     "iopub.status.busy": "2021-08-13T15:21:24.523616Z",
     "iopub.status.idle": "2021-08-13T15:21:24.681445Z",
     "shell.execute_reply": "2021-08-13T15:21:24.682165Z",
     "shell.execute_reply.started": "2021-08-13T15:06:39.436961Z"
    },
    "papermill": {
     "duration": 0.203037,
     "end_time": "2021-08-13T15:21:24.682401",
     "exception": false,
     "start_time": "2021-08-13T15:21:24.479364",
     "status": "completed"
    },
    "tags": []
   },
   "outputs": [
    {
     "name": "stdout",
     "output_type": "stream",
     "text": [
      "0.503975\n"
     ]
    }
   ],
   "source": [
    "df = pd.read_csv('../input/water-potability/water_potability.csv')\n",
    "\n",
    "X = df.drop('Potability', axis=1)\n",
    "y = df['Potability']\n",
    "\n",
    "imputer = SimpleImputer(strategy='median')\n",
    "X = imputer.fit_transform(X)\n",
    "\n",
    "scaler = MinMaxScaler()\n",
    "X = scaler.fit_transform(X)\n",
    "\n",
    "model = LogisticRegression(solver='liblinear')\n",
    "\n",
    "cv = RepeatedStratifiedKFold(n_splits=10, n_repeats=3, random_state=42)\n",
    "\n",
    "result = cross_val_score(model, X, y,  scoring='roc_auc',cv=cv, n_jobs=-1)\n",
    "\n",
    "print(f'{round(np.mean(result),6)}')"
   ]
  },
  {
   "cell_type": "markdown",
   "id": "147b07c2",
   "metadata": {
    "papermill": {
     "duration": 0.036022,
     "end_time": "2021-08-13T15:21:24.755514",
     "exception": false,
     "start_time": "2021-08-13T15:21:24.719492",
     "status": "completed"
    },
    "tags": []
   },
   "source": [
    "- Ok What we did?\n",
    "- First we fill the missing values with the 'median' scores.\n",
    "- Then we normalize the scales.\n",
    "- We use cross validation and seperated our training and validation data to evaluate."
   ]
  },
  {
   "cell_type": "markdown",
   "id": "113af455",
   "metadata": {
    "papermill": {
     "duration": 0.035823,
     "end_time": "2021-08-13T15:21:24.827403",
     "exception": false,
     "start_time": "2021-08-13T15:21:24.791580",
     "status": "completed"
    },
    "tags": []
   },
   "source": [
    "<a id=\"5\"></a>\n",
    "<font color=\"lightseagreen\" size=+2.5><b>Where is the Data Leakage?</b></font>\n",
    "\n",
    "\n",
    "<a href=\"#toc\" class=\"btn btn-primary btn-sm\" role=\"button\" aria-pressed=\"true\" style=\"color:white\" data-toggle=\"popover\">Table of Contents</a>"
   ]
  },
  {
   "cell_type": "markdown",
   "id": "262ccf71",
   "metadata": {
    "papermill": {
     "duration": 0.035958,
     "end_time": "2021-08-13T15:21:24.899429",
     "exception": false,
     "start_time": "2021-08-13T15:21:24.863471",
     "status": "completed"
    },
    "tags": []
   },
   "source": [
    "- **imputer = SimpleImputer(strategy='median')**\n",
    "\n",
    "- ![](https://thefinanalyst.com/wp-content/uploads/2021/04/ME.jpg)\n",
    "\n",
    "  - imputer uses dataset to get median scores for the variables which have missing values\n",
    "   - When we using cross validation to seperate training data,\n",
    "   - Training data has already knowledge on the test data about the median scores of the several features.\n",
    "   - Traning data knows the global median scores and has more knowledge on the global distribution of the features than it should.\n",
    "\n"
   ]
  },
  {
   "cell_type": "markdown",
   "id": "37d509c3",
   "metadata": {
    "papermill": {
     "duration": 0.036182,
     "end_time": "2021-08-13T15:21:24.972756",
     "exception": false,
     "start_time": "2021-08-13T15:21:24.936574",
     "status": "completed"
    },
    "tags": []
   },
   "source": [
    "- **scaler = MinMaxScaler()**\n",
    "   - As we have seen that, when we are using to normalize our data;\n",
    "   - We are using minimum nd maximum values of the features."
   ]
  },
  {
   "cell_type": "markdown",
   "id": "ec2f3513",
   "metadata": {
    "papermill": {
     "duration": 0.035916,
     "end_time": "2021-08-13T15:21:25.045008",
     "exception": false,
     "start_time": "2021-08-13T15:21:25.009092",
     "status": "completed"
    },
    "tags": []
   },
   "source": [
    "![](https://i.stack.imgur.com/EuitP.png)"
   ]
  },
  {
   "cell_type": "markdown",
   "id": "608daa5a",
   "metadata": {
    "papermill": {
     "duration": 0.036301,
     "end_time": "2021-08-13T15:21:25.118492",
     "exception": false,
     "start_time": "2021-08-13T15:21:25.082191",
     "status": "completed"
    },
    "tags": []
   },
   "source": [
    "\n",
    "- When we using cross validation to seperate training data,\n",
    "- Training data has already knowledge on the test data about the minimum and maximum scores of the features.\n",
    "- Because training data is scaled based on the global maximum and minimum values\n",
    "- Traning data has more knloedge on the global distribution of the features than it should.\n",
    "\n",
    "- Both of the results have a data leakage problem. \n",
    "- This can lead to make an incorrect estimation of model performance."
   ]
  },
  {
   "cell_type": "markdown",
   "id": "a44bc40b",
   "metadata": {
    "papermill": {
     "duration": 0.036251,
     "end_time": "2021-08-13T15:21:25.191403",
     "exception": false,
     "start_time": "2021-08-13T15:21:25.155152",
     "status": "completed"
    },
    "tags": []
   },
   "source": [
    "<a id=\"6\"></a>\n",
    "<font color=\"lightseagreen\" size=+2.5><b>Using Pipeline</b></font>\n",
    "\n",
    "\n",
    "<a href=\"#toc\" class=\"btn btn-primary btn-sm\" role=\"button\" aria-pressed=\"true\" style=\"color:white\" data-toggle=\"popover\">Table of Contents</a>"
   ]
  },
  {
   "cell_type": "markdown",
   "id": "1766c05e",
   "metadata": {
    "papermill": {
     "duration": 0.036377,
     "end_time": "2021-08-13T15:21:25.264145",
     "exception": false,
     "start_time": "2021-08-13T15:21:25.227768",
     "status": "completed"
    },
    "tags": []
   },
   "source": [
    "- 'One definition of an ML pipeline is a means of automating the machine learning workflow by enabling data to be transformed and correlated into a model that can then be analyzed to achieve outputs. This type of ML pipeline makes the process of inputting data into the ML model fully automated.' (reference: https://algorithmia.com/blog/ml-pipeline)\n",
    "\n",
    "\n",
    "- When we use pipeline in our models, data pass through different automated steps before reaching the final output.\n",
    "\n",
    "- In our case, imputer will fit only on the training dataset, not the entire dataset or test set.\n",
    "\n",
    "- Let's see the coding."
   ]
  },
  {
   "cell_type": "code",
   "execution_count": 6,
   "id": "01305f90",
   "metadata": {
    "execution": {
     "iopub.execute_input": "2021-08-13T15:21:25.344105Z",
     "iopub.status.busy": "2021-08-13T15:21:25.343415Z",
     "iopub.status.idle": "2021-08-13T15:21:25.638651Z",
     "shell.execute_reply": "2021-08-13T15:21:25.639296Z",
     "shell.execute_reply.started": "2021-08-13T15:06:39.654755Z"
    },
    "papermill": {
     "duration": 0.338994,
     "end_time": "2021-08-13T15:21:25.639467",
     "exception": false,
     "start_time": "2021-08-13T15:21:25.300473",
     "status": "completed"
    },
    "tags": []
   },
   "outputs": [
    {
     "name": "stdout",
     "output_type": "stream",
     "text": [
      "0.503989\n"
     ]
    }
   ],
   "source": [
    "df = pd.read_csv('../input/water-potability/water_potability.csv')\n",
    "\n",
    "X = df.drop('Potability', axis=1)\n",
    "y = df['Potability']\n",
    "\n",
    "model =LogisticRegression(solver='liblinear')\n",
    "\n",
    "pipeline = Pipeline(steps=[('imp', SimpleImputer(strategy='median')),('s',MinMaxScaler()),('m', model)]) \n",
    "\n",
    "cv = RepeatedStratifiedKFold(n_splits=10, n_repeats=3, random_state=42)\n",
    "\n",
    "result = cross_val_score(pipeline, X, y,  scoring='roc_auc',cv=cv, n_jobs=-1)\n",
    "\n",
    "print(f'{round(np.mean(result),6)}')"
   ]
  },
  {
   "cell_type": "markdown",
   "id": "ded9b783",
   "metadata": {
    "papermill": {
     "duration": 0.036739,
     "end_time": "2021-08-13T15:21:25.713328",
     "exception": false,
     "start_time": "2021-08-13T15:21:25.676589",
     "status": "completed"
    },
    "tags": []
   },
   "source": [
    "- Ok we are seeing a litlle change in the model performance.\n",
    "- Becaues of the data leakage, one can expect better score on the first two model.\n",
    "- But there is very smal difference. \n",
    "- This might be because of the difficulty of the prediction task.\n",
    "- Important thing is, cross validation changes simply and incorrectly evaluating just the model.\n",
    "- By using pipeline, cross validation evaluate the entire pipleline of data preparation and model together."
   ]
  },
  {
   "cell_type": "markdown",
   "id": "89cfa97e",
   "metadata": {
    "papermill": {
     "duration": 0.037004,
     "end_time": "2021-08-13T15:21:25.787733",
     "exception": false,
     "start_time": "2021-08-13T15:21:25.750729",
     "status": "completed"
    },
    "tags": []
   },
   "source": [
    "<a id=\"7\"></a>\n",
    "<font color=\"lightseagreen\" size=+2.5><b>Cross-Validation & Pipeline- Correct Data Preparation</b></font>\n",
    "\n",
    "\n",
    "<a href=\"#toc\" class=\"btn btn-primary btn-sm\" role=\"button\" aria-pressed=\"true\" style=\"color:white\" data-toggle=\"popover\">Table of Contents</a>"
   ]
  },
  {
   "cell_type": "code",
   "execution_count": 7,
   "id": "2d7dd6d3",
   "metadata": {
    "execution": {
     "iopub.execute_input": "2021-08-13T15:21:25.865796Z",
     "iopub.status.busy": "2021-08-13T15:21:25.865019Z",
     "iopub.status.idle": "2021-08-13T15:21:25.902539Z",
     "shell.execute_reply": "2021-08-13T15:21:25.902033Z",
     "shell.execute_reply.started": "2021-08-13T15:06:40.126141Z"
    },
    "papermill": {
     "duration": 0.078318,
     "end_time": "2021-08-13T15:21:25.902686",
     "exception": false,
     "start_time": "2021-08-13T15:21:25.824368",
     "status": "completed"
    },
    "tags": []
   },
   "outputs": [
    {
     "data": {
      "text/html": [
       "<div>\n",
       "<style scoped>\n",
       "    .dataframe tbody tr th:only-of-type {\n",
       "        vertical-align: middle;\n",
       "    }\n",
       "\n",
       "    .dataframe tbody tr th {\n",
       "        vertical-align: top;\n",
       "    }\n",
       "\n",
       "    .dataframe thead th {\n",
       "        text-align: right;\n",
       "    }\n",
       "</style>\n",
       "<table border=\"1\" class=\"dataframe\">\n",
       "  <thead>\n",
       "    <tr style=\"text-align: right;\">\n",
       "      <th></th>\n",
       "      <th>id</th>\n",
       "      <th>gender</th>\n",
       "      <th>age</th>\n",
       "      <th>hypertension</th>\n",
       "      <th>heart_disease</th>\n",
       "      <th>ever_married</th>\n",
       "      <th>work_type</th>\n",
       "      <th>Residence_type</th>\n",
       "      <th>avg_glucose_level</th>\n",
       "      <th>bmi</th>\n",
       "      <th>smoking_status</th>\n",
       "      <th>stroke</th>\n",
       "    </tr>\n",
       "  </thead>\n",
       "  <tbody>\n",
       "    <tr>\n",
       "      <th>0</th>\n",
       "      <td>9046</td>\n",
       "      <td>Male</td>\n",
       "      <td>67.0</td>\n",
       "      <td>0</td>\n",
       "      <td>1</td>\n",
       "      <td>Yes</td>\n",
       "      <td>Private</td>\n",
       "      <td>Urban</td>\n",
       "      <td>228.69</td>\n",
       "      <td>36.6</td>\n",
       "      <td>formerly smoked</td>\n",
       "      <td>1</td>\n",
       "    </tr>\n",
       "    <tr>\n",
       "      <th>1</th>\n",
       "      <td>51676</td>\n",
       "      <td>Female</td>\n",
       "      <td>61.0</td>\n",
       "      <td>0</td>\n",
       "      <td>0</td>\n",
       "      <td>Yes</td>\n",
       "      <td>Self-employed</td>\n",
       "      <td>Rural</td>\n",
       "      <td>202.21</td>\n",
       "      <td>NaN</td>\n",
       "      <td>never smoked</td>\n",
       "      <td>1</td>\n",
       "    </tr>\n",
       "    <tr>\n",
       "      <th>2</th>\n",
       "      <td>31112</td>\n",
       "      <td>Male</td>\n",
       "      <td>80.0</td>\n",
       "      <td>0</td>\n",
       "      <td>1</td>\n",
       "      <td>Yes</td>\n",
       "      <td>Private</td>\n",
       "      <td>Rural</td>\n",
       "      <td>105.92</td>\n",
       "      <td>32.5</td>\n",
       "      <td>never smoked</td>\n",
       "      <td>1</td>\n",
       "    </tr>\n",
       "    <tr>\n",
       "      <th>3</th>\n",
       "      <td>60182</td>\n",
       "      <td>Female</td>\n",
       "      <td>49.0</td>\n",
       "      <td>0</td>\n",
       "      <td>0</td>\n",
       "      <td>Yes</td>\n",
       "      <td>Private</td>\n",
       "      <td>Urban</td>\n",
       "      <td>171.23</td>\n",
       "      <td>34.4</td>\n",
       "      <td>smokes</td>\n",
       "      <td>1</td>\n",
       "    </tr>\n",
       "    <tr>\n",
       "      <th>4</th>\n",
       "      <td>1665</td>\n",
       "      <td>Female</td>\n",
       "      <td>79.0</td>\n",
       "      <td>1</td>\n",
       "      <td>0</td>\n",
       "      <td>Yes</td>\n",
       "      <td>Self-employed</td>\n",
       "      <td>Rural</td>\n",
       "      <td>174.12</td>\n",
       "      <td>24.0</td>\n",
       "      <td>never smoked</td>\n",
       "      <td>1</td>\n",
       "    </tr>\n",
       "  </tbody>\n",
       "</table>\n",
       "</div>"
      ],
      "text/plain": [
       "      id  gender   age  hypertension  heart_disease ever_married  \\\n",
       "0   9046    Male  67.0             0              1          Yes   \n",
       "1  51676  Female  61.0             0              0          Yes   \n",
       "2  31112    Male  80.0             0              1          Yes   \n",
       "3  60182  Female  49.0             0              0          Yes   \n",
       "4   1665  Female  79.0             1              0          Yes   \n",
       "\n",
       "       work_type Residence_type  avg_glucose_level   bmi   smoking_status  \\\n",
       "0        Private          Urban             228.69  36.6  formerly smoked   \n",
       "1  Self-employed          Rural             202.21   NaN     never smoked   \n",
       "2        Private          Rural             105.92  32.5     never smoked   \n",
       "3        Private          Urban             171.23  34.4           smokes   \n",
       "4  Self-employed          Rural             174.12  24.0     never smoked   \n",
       "\n",
       "   stroke  \n",
       "0       1  \n",
       "1       1  \n",
       "2       1  \n",
       "3       1  \n",
       "4       1  "
      ]
     },
     "execution_count": 7,
     "metadata": {},
     "output_type": "execute_result"
    }
   ],
   "source": [
    "df = pd.read_csv('../input/stroke-prediction-dataset/healthcare-dataset-stroke-data.csv')\n",
    "df.head()"
   ]
  },
  {
   "cell_type": "markdown",
   "id": "9892719d",
   "metadata": {
    "papermill": {
     "duration": 0.036702,
     "end_time": "2021-08-13T15:21:25.976508",
     "exception": false,
     "start_time": "2021-08-13T15:21:25.939806",
     "status": "completed"
    },
    "tags": []
   },
   "source": [
    "### We have already worked on this data. I am not going to make a detailed analysis on this data. Please refer to [Beginner Friendly end to end ML Project](https://www.kaggle.com/kaanboke/beginner-friendly-end-to-end-ml-project-enjoy)"
   ]
  },
  {
   "cell_type": "markdown",
   "id": "92bf49f1",
   "metadata": {
    "papermill": {
     "duration": 0.036713,
     "end_time": "2021-08-13T15:21:26.050844",
     "exception": false,
     "start_time": "2021-08-13T15:21:26.014131",
     "status": "completed"
    },
    "tags": []
   },
   "source": [
    "- Before modeling:\n",
    "  - Handle the missing data.\n",
    "  - Change the categorical variables to numerical version for ML model\n",
    "  - Change the scale\n",
    "  - Normalize the distribution"
   ]
  },
  {
   "cell_type": "markdown",
   "id": "2ea3a0a8",
   "metadata": {
    "papermill": {
     "duration": 0.036733,
     "end_time": "2021-08-13T15:21:26.125067",
     "exception": false,
     "start_time": "2021-08-13T15:21:26.088334",
     "status": "completed"
    },
    "tags": []
   },
   "source": [
    "- We will do everything by using pipeline, so that cross validation evaluate the entire pipleline of data preparation and model together."
   ]
  },
  {
   "cell_type": "code",
   "execution_count": 8,
   "id": "3f8a2ea2",
   "metadata": {
    "execution": {
     "iopub.execute_input": "2021-08-13T15:21:26.201990Z",
     "iopub.status.busy": "2021-08-13T15:21:26.201364Z",
     "iopub.status.idle": "2021-08-13T15:21:29.490961Z",
     "shell.execute_reply": "2021-08-13T15:21:29.490409Z",
     "shell.execute_reply.started": "2021-08-13T15:06:40.162985Z"
    },
    "papermill": {
     "duration": 3.328903,
     "end_time": "2021-08-13T15:21:29.491100",
     "exception": false,
     "start_time": "2021-08-13T15:21:26.162197",
     "status": "completed"
    },
    "tags": []
   },
   "outputs": [
    {
     "name": "stdout",
     "output_type": "stream",
     "text": [
      "0.839\n"
     ]
    }
   ],
   "source": [
    "df = pd.read_csv('../input/stroke-prediction-dataset/healthcare-dataset-stroke-data.csv')\n",
    "df=df.drop('id', axis=1)\n",
    "categorical = [ 'hypertension', 'heart_disease', 'ever_married','work_type', 'Residence_type', 'smoking_status']\n",
    "numerical = ['avg_glucose_level', 'bmi','age']\n",
    "y= df['stroke']\n",
    "X = df.drop('stroke', axis=1)\n",
    "\n",
    "\n",
    "model =LogisticRegression(solver='liblinear')\n",
    "\n",
    "transformer = ColumnTransformer(transformers=[('imp',SimpleImputer(strategy='median'),numerical),('o',OneHotEncoder(),categorical)])\n",
    "\n",
    "pipeline = Pipeline(steps=[('t', transformer),('p',PowerTransformer(method='yeo-johnson')),('m', model)])    \n",
    "\n",
    "cv = RepeatedStratifiedKFold(n_splits=10, n_repeats=3, random_state=42)\n",
    "\n",
    "result = cross_val_score(pipeline, X, y,  scoring='roc_auc',cv=cv, n_jobs=-1)\n",
    "\n",
    "print(f'{round(np.mean(result),3)}')"
   ]
  },
  {
   "cell_type": "markdown",
   "id": "63596248",
   "metadata": {
    "papermill": {
     "duration": 0.036921,
     "end_time": "2021-08-13T15:21:29.566717",
     "exception": false,
     "start_time": "2021-08-13T15:21:29.529796",
     "status": "completed"
    },
    "tags": []
   },
   "source": [
    "- Ok let's go step by step."
   ]
  },
  {
   "cell_type": "code",
   "execution_count": 9,
   "id": "9cbff9be",
   "metadata": {
    "execution": {
     "iopub.execute_input": "2021-08-13T15:21:29.647532Z",
     "iopub.status.busy": "2021-08-13T15:21:29.646480Z",
     "iopub.status.idle": "2021-08-13T15:21:29.649828Z",
     "shell.execute_reply": "2021-08-13T15:21:29.650354Z",
     "shell.execute_reply.started": "2021-08-13T15:06:43.5358Z"
    },
    "papermill": {
     "duration": 0.046201,
     "end_time": "2021-08-13T15:21:29.650519",
     "exception": false,
     "start_time": "2021-08-13T15:21:29.604318",
     "status": "completed"
    },
    "tags": []
   },
   "outputs": [],
   "source": [
    "transformer = ColumnTransformer(transformers=[('imp',SimpleImputer(strategy='median'),numerical),('o',OneHotEncoder(),categorical)])\n"
   ]
  },
  {
   "cell_type": "markdown",
   "id": "65a1c634",
   "metadata": {
    "papermill": {
     "duration": 0.0375,
     "end_time": "2021-08-13T15:21:29.726006",
     "exception": false,
     "start_time": "2021-08-13T15:21:29.688506",
     "status": "completed"
    },
    "tags": []
   },
   "source": [
    "- First we need to deal with the missing values in the numerical features by\n",
    "- Secondly we need to change categorical variable to ML readable numerical version by OneHotEncoder\n",
    "- Since we are dealing a part of the data we use Column Transformer for this task."
   ]
  },
  {
   "cell_type": "code",
   "execution_count": 10,
   "id": "749909ca",
   "metadata": {
    "execution": {
     "iopub.execute_input": "2021-08-13T15:21:29.805365Z",
     "iopub.status.busy": "2021-08-13T15:21:29.804358Z",
     "iopub.status.idle": "2021-08-13T15:21:29.809348Z",
     "shell.execute_reply": "2021-08-13T15:21:29.809797Z",
     "shell.execute_reply.started": "2021-08-13T15:06:43.543142Z"
    },
    "papermill": {
     "duration": 0.046171,
     "end_time": "2021-08-13T15:21:29.810001",
     "exception": false,
     "start_time": "2021-08-13T15:21:29.763830",
     "status": "completed"
    },
    "tags": []
   },
   "outputs": [],
   "source": [
    "pipeline = Pipeline(steps=[('t', transformer),('p',PowerTransformer(method='yeo-johnson')),('m', model)])    \n"
   ]
  },
  {
   "cell_type": "markdown",
   "id": "77610625",
   "metadata": {
    "papermill": {
     "duration": 0.037408,
     "end_time": "2021-08-13T15:21:29.885213",
     "exception": false,
     "start_time": "2021-08-13T15:21:29.847805",
     "status": "completed"
    },
    "tags": []
   },
   "source": [
    "- We defined the steps of the pipeline.\n",
    "- First we put the what we have done in the column transformer\n",
    "- Then our numerical variables have skewness and different scales, we use the Power transformer to normalize them for Logistic regression model\n",
    "- We call the model"
   ]
  },
  {
   "cell_type": "code",
   "execution_count": 11,
   "id": "a3055ff2",
   "metadata": {
    "execution": {
     "iopub.execute_input": "2021-08-13T15:21:29.964985Z",
     "iopub.status.busy": "2021-08-13T15:21:29.963831Z",
     "iopub.status.idle": "2021-08-13T15:21:29.967960Z",
     "shell.execute_reply": "2021-08-13T15:21:29.968423Z",
     "shell.execute_reply.started": "2021-08-13T15:06:43.558307Z"
    },
    "papermill": {
     "duration": 0.045366,
     "end_time": "2021-08-13T15:21:29.968597",
     "exception": false,
     "start_time": "2021-08-13T15:21:29.923231",
     "status": "completed"
    },
    "tags": []
   },
   "outputs": [],
   "source": [
    "cv = RepeatedStratifiedKFold(n_splits=10, n_repeats=3, random_state=42)"
   ]
  },
  {
   "cell_type": "markdown",
   "id": "a4d4eece",
   "metadata": {
    "papermill": {
     "duration": 0.0373,
     "end_time": "2021-08-13T15:21:30.043680",
     "exception": false,
     "start_time": "2021-08-13T15:21:30.006380",
     "status": "completed"
    },
    "tags": []
   },
   "source": [
    "- We have defined our cross validation evaluation method.\n",
    "- Since we are dealing imbalanced data, we selected stratified version of Kfold with 3 repeats."
   ]
  },
  {
   "cell_type": "code",
   "execution_count": 12,
   "id": "2c318810",
   "metadata": {
    "execution": {
     "iopub.execute_input": "2021-08-13T15:21:30.122831Z",
     "iopub.status.busy": "2021-08-13T15:21:30.122168Z",
     "iopub.status.idle": "2021-08-13T15:21:33.239927Z",
     "shell.execute_reply": "2021-08-13T15:21:33.239236Z",
     "shell.execute_reply.started": "2021-08-13T15:06:43.571318Z"
    },
    "papermill": {
     "duration": 3.158801,
     "end_time": "2021-08-13T15:21:33.240078",
     "exception": false,
     "start_time": "2021-08-13T15:21:30.081277",
     "status": "completed"
    },
    "tags": []
   },
   "outputs": [],
   "source": [
    "result = cross_val_score(pipeline, X, y,  scoring='roc_auc',cv=cv, n_jobs=-1)"
   ]
  },
  {
   "cell_type": "markdown",
   "id": "ded89bf3",
   "metadata": {
    "papermill": {
     "duration": 0.037513,
     "end_time": "2021-08-13T15:21:33.315488",
     "exception": false,
     "start_time": "2021-08-13T15:21:33.277975",
     "status": "completed"
    },
    "tags": []
   },
   "source": [
    "- First we put the pipeline and our fetures and target variable\n",
    "- We defined our metric (Roc-Auc)\n",
    "- We put our cross validation method."
   ]
  },
  {
   "cell_type": "markdown",
   "id": "25d30d5b",
   "metadata": {
    "papermill": {
     "duration": 0.037784,
     "end_time": "2021-08-13T15:21:33.390755",
     "exception": false,
     "start_time": "2021-08-13T15:21:33.352971",
     "status": "completed"
    },
    "tags": []
   },
   "source": [
    "<a id=\"8\"></a>\n",
    "<font color=\"darkblue\" size=+1.5><b>Conclusion</b></font>\n",
    "\n",
    "\n",
    "<a href=\"#toc\" class=\"btn btn-primary btn-sm\" role=\"button\" aria-pressed=\"true\" style=\"color:white\" data-toggle=\"popover\">Table of Contents</a>"
   ]
  },
  {
   "cell_type": "markdown",
   "id": "8c909686",
   "metadata": {
    "papermill": {
     "duration": 0.037356,
     "end_time": "2021-08-13T15:21:33.465646",
     "exception": false,
     "start_time": "2021-08-13T15:21:33.428290",
     "status": "completed"
    },
    "tags": []
   },
   "source": [
    "- Data preparation methods to the whole dataset results in data leakage that causes incorrect estimates of model performance.\n",
    "- To prevent this **data preparation must be prepared on the training dataset**.\n",
    "\n",
    "- Nothing else really. OK if you want, I will tell it one more time;\n",
    "- **Data preparation must be prepared on the training dataset**"
   ]
  },
  {
   "cell_type": "markdown",
   "id": "a3423e76",
   "metadata": {
    "papermill": {
     "duration": 0.039286,
     "end_time": "2021-08-13T15:21:33.542329",
     "exception": false,
     "start_time": "2021-08-13T15:21:33.503043",
     "status": "completed"
    },
    "tags": []
   },
   "source": [
    "#### By the way, when you like the topic, you can show it by supporting 👍\n",
    "\n",
    "####  **Feel free to leave a comment**. \n",
    "\n",
    "#### All the best 🤘"
   ]
  },
  {
   "cell_type": "markdown",
   "id": "818cd10c",
   "metadata": {
    "execution": {
     "iopub.execute_input": "2021-08-13T14:42:24.199066Z",
     "iopub.status.busy": "2021-08-13T14:42:24.198429Z",
     "iopub.status.idle": "2021-08-13T14:42:24.214182Z",
     "shell.execute_reply": "2021-08-13T14:42:24.21206Z",
     "shell.execute_reply.started": "2021-08-13T14:42:24.198994Z"
    },
    "papermill": {
     "duration": 0.036825,
     "end_time": "2021-08-13T15:21:33.616612",
     "exception": false,
     "start_time": "2021-08-13T15:21:33.579787",
     "status": "completed"
    },
    "tags": []
   },
   "source": [
    "- **Enjoy** 🤘"
   ]
  },
  {
   "cell_type": "markdown",
   "id": "e34f88f0",
   "metadata": {
    "papermill": {
     "duration": 0.036919,
     "end_time": "2021-08-13T15:21:33.691231",
     "exception": false,
     "start_time": "2021-08-13T15:21:33.654312",
     "status": "completed"
    },
    "tags": []
   },
   "source": [
    "![](https://media.giphy.com/media/l2JJyDYEX1tXFmCd2/giphy.gif)"
   ]
  },
  {
   "cell_type": "markdown",
   "id": "f5f8cc25",
   "metadata": {
    "papermill": {
     "duration": 0.037674,
     "end_time": "2021-08-13T15:21:33.766078",
     "exception": false,
     "start_time": "2021-08-13T15:21:33.728404",
     "status": "completed"
    },
    "tags": []
   },
   "source": [
    "<a id=\"9\"></a>\n",
    "<font color=\"darkblue\" size=+1.5><b>References & Further Reading</b></font>\n",
    "\n",
    "\n",
    "<a href=\"#toc\" class=\"btn btn-primary btn-sm\" role=\"button\" aria-pressed=\"true\" style=\"color:white\" data-toggle=\"popover\">Table of Contents</a>\n",
    "\n",
    "\n",
    "[Machine Learning - Beginner &Intermediate-Friendly BOOKS](https://www.kaggle.com/general/255972)"
   ]
  }
 ],
 "metadata": {
  "kernelspec": {
   "display_name": "Python 3",
   "language": "python",
   "name": "python3"
  },
  "language_info": {
   "codemirror_mode": {
    "name": "ipython",
    "version": 3
   },
   "file_extension": ".py",
   "mimetype": "text/x-python",
   "name": "python",
   "nbconvert_exporter": "python",
   "pygments_lexer": "ipython3",
   "version": "3.7.10"
  },
  "papermill": {
   "default_parameters": {},
   "duration": 23.788354,
   "end_time": "2021-08-13T15:21:34.515351",
   "environment_variables": {},
   "exception": null,
   "input_path": "__notebook__.ipynb",
   "output_path": "__notebook__.ipynb",
   "parameters": {},
   "start_time": "2021-08-13T15:21:10.726997",
   "version": "2.3.3"
  }
 },
 "nbformat": 4,
 "nbformat_minor": 5
}
