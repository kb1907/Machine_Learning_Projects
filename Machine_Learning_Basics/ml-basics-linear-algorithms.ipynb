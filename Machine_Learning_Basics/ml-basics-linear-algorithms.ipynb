{
 "cells": [
  {
   "cell_type": "markdown",
   "id": "6293f681",
   "metadata": {
    "_cell_guid": "b1076dfc-b9ad-4769-8c92-a6c4dae69d19",
    "_uuid": "8f2839f25d086af736a60e9eeb907d3b93b6e0e5",
    "papermill": {
     "duration": 0.027547,
     "end_time": "2021-07-31T12:11:07.027423",
     "exception": false,
     "start_time": "2021-07-31T12:11:06.999876",
     "status": "completed"
    },
    "tags": []
   },
   "source": [
    "#### Hi all. 👍\n",
    "\n",
    "#### Recently I have published [Beginner Friendly Detailed Explained EDAs – For any one at their beginnings of DS/ML journey](https://www.kaggle.com/general/253911#1393015) series.\n",
    "\n",
    "#### After getting positive feedbacks and requests for Beginner-Intermediate Friendly Machine Learning series, I started to publish the Machine Learning Basic Series, which would help anyone who wants to learn or refresh the basics of ML.\n",
    "\n",
    "#### First notebook of the series is:  [BIAS & VARIANCE TRADEOFF](https://www.kaggle.com/kaanboke/ml-basics-bias-variance-tradeoff)\n",
    "\n",
    "#### In this post, I want to share with you :\n",
    "\n",
    "#### One of the essential concepts of Machine Learning Journey: **LINEAR ALGORITHMS**\n",
    "\n",
    "#### In this series, I will focus on the basic concepts with detailed explanations.\n",
    "\n",
    "#### After finishing the beginner-friendly explanation series, I will publish ML algorithms in action.\n",
    "\n",
    "#### By the way, when you like the topic, you can show it by supporting 👍\n",
    "\n",
    "#### All the best 🤘"
   ]
  },
  {
   "cell_type": "markdown",
   "id": "d0817338",
   "metadata": {
    "papermill": {
     "duration": 0.026559,
     "end_time": "2021-07-31T12:11:07.079998",
     "exception": false,
     "start_time": "2021-07-31T12:11:07.053439",
     "status": "completed"
    },
    "tags": []
   },
   "source": [
    "![](https://miro.medium.com/max/1400/1*FUZS9K4JPqzfXDcC83BQTw.png)"
   ]
  },
  {
   "cell_type": "markdown",
   "id": "4f3d12dc",
   "metadata": {
    "papermill": {
     "duration": 0.026186,
     "end_time": "2021-07-31T12:11:07.131501",
     "exception": false,
     "start_time": "2021-07-31T12:11:07.105315",
     "status": "completed"
    },
    "tags": []
   },
   "source": [
    "Image Credit: https://miro.medium.com/"
   ]
  },
  {
   "cell_type": "markdown",
   "id": "69775b5d",
   "metadata": {
    "papermill": {
     "duration": 0.026936,
     "end_time": "2021-07-31T12:11:07.183568",
     "exception": false,
     "start_time": "2021-07-31T12:11:07.156632",
     "status": "completed"
    },
    "tags": []
   },
   "source": [
    "#### Before moving to the Algorithms, let's make the basic definitions of the supervised and unsupervised machine learning and see the differences between them."
   ]
  },
  {
   "cell_type": "markdown",
   "id": "a538c385",
   "metadata": {
    "papermill": {
     "duration": 0.0226,
     "end_time": "2021-07-31T12:11:07.230147",
     "exception": false,
     "start_time": "2021-07-31T12:11:07.207547",
     "status": "completed"
    },
    "tags": []
   },
   "source": [
    "<font color=\"lightseagreen\" size=+2.5><b>Supervised Machine Learning:</b></font>\n",
    "\n",
    "#### Let's think we have a spam detection data and data contains thousands and thousands instances. Our aim to predict which e-mail is spam. To make accurate prediction, our model uses this data to train and test. At the end, our model learns which e-mail is genuine and which is spam by using the data. This is one of the basic example of the supervised learning.\n",
    "\n",
    "#### In this case, let's say, teacher/supervisor of the learning process is our data and each time our model is corrected by the supervisor/teacher.\n",
    "\n",
    "#### Supervised machine learning models try to solve **Regression Problems** and **Classification Problems**\n",
    "\n",
    "#### Simple difference between this two is: regression problems aim to predict continuous target variable (such as price of house, etc.) and classification problems aim to predict categorical target variable (such as fraud, no fraud, etc.)."
   ]
  },
  {
   "cell_type": "markdown",
   "id": "69afdeff",
   "metadata": {
    "papermill": {
     "duration": 0.023475,
     "end_time": "2021-07-31T12:11:07.277658",
     "exception": false,
     "start_time": "2021-07-31T12:11:07.254183",
     "status": "completed"
    },
    "tags": []
   },
   "source": [
    "![](https://www.newtechdojo.com/wp-content/uploads/2018/03/How-supervised-machine-Learning-works.jpg)"
   ]
  },
  {
   "cell_type": "markdown",
   "id": "58abd8d9",
   "metadata": {
    "papermill": {
     "duration": 0.023823,
     "end_time": "2021-07-31T12:11:07.326750",
     "exception": false,
     "start_time": "2021-07-31T12:11:07.302927",
     "status": "completed"
    },
    "tags": []
   },
   "source": [
    "Image Credit: https://www.newtechdojo.com"
   ]
  },
  {
   "cell_type": "markdown",
   "id": "4a588df6",
   "metadata": {
    "papermill": {
     "duration": 0.024389,
     "end_time": "2021-07-31T12:11:07.374816",
     "exception": false,
     "start_time": "2021-07-31T12:11:07.350427",
     "status": "completed"
    },
    "tags": []
   },
   "source": [
    "<font color=\"lightseagreen\" size=+2.5><b>Unsupervised Machine Learning:</b></font>\n",
    "\n",
    "#### As the title says, there is no supervisor / teacher. Model learns from the data, since there is no correct or wrong answer, model gets the information from the input.\n",
    "\n",
    "#### There is no target variable. \n",
    "\n",
    "#### One of the classic example of the unsupervised machine learning is, customer segmentation based on their spending behavior. \n",
    "\n",
    "#### We don't have any target variable, only we have data about the spending behaviors of the customers and based on this data, our model learns and clusters the different segments of the customers."
   ]
  },
  {
   "cell_type": "markdown",
   "id": "cd39dde1",
   "metadata": {
    "papermill": {
     "duration": 0.02359,
     "end_time": "2021-07-31T12:11:07.423201",
     "exception": false,
     "start_time": "2021-07-31T12:11:07.399611",
     "status": "completed"
    },
    "tags": []
   },
   "source": [
    "![](https://www.newtechdojo.com/wp-content/uploads/2018/03/How-unsupervised-machine-Learning-works.jpg)"
   ]
  },
  {
   "cell_type": "markdown",
   "id": "c233fc09",
   "metadata": {
    "papermill": {
     "duration": 0.025304,
     "end_time": "2021-07-31T12:11:07.474479",
     "exception": false,
     "start_time": "2021-07-31T12:11:07.449175",
     "status": "completed"
    },
    "tags": []
   },
   "source": [
    "Image Credit: https://www.newtechdojo.com"
   ]
  },
  {
   "cell_type": "markdown",
   "id": "0cc86b6b",
   "metadata": {
    "papermill": {
     "duration": 0.024401,
     "end_time": "2021-07-31T12:11:07.525501",
     "exception": false,
     "start_time": "2021-07-31T12:11:07.501100",
     "status": "completed"
    },
    "tags": []
   },
   "source": [
    "#### OK Let's start with the basic question. What is algorithm?"
   ]
  },
  {
   "cell_type": "markdown",
   "id": "3d3cee60",
   "metadata": {
    "papermill": {
     "duration": 0.023971,
     "end_time": "2021-07-31T12:11:07.572585",
     "exception": false,
     "start_time": "2021-07-31T12:11:07.548614",
     "status": "completed"
    },
    "tags": []
   },
   "source": [
    "<font color=\"lightseagreen\" size=+1.5><b>Algorithm:</b></font> \n",
    "\n",
    "#### An algorithm is a set of instructions designed to perform a specific task. This can be a simple process, such as multiplying two numbers, or a complex operation, such as playing a compressed video file.\n",
    "\n",
    "Reference: https://techterms.com/definition/algorithm"
   ]
  },
  {
   "cell_type": "markdown",
   "id": "882a7bb6",
   "metadata": {
    "papermill": {
     "duration": 0.025015,
     "end_time": "2021-07-31T12:11:07.622095",
     "exception": false,
     "start_time": "2021-07-31T12:11:07.597080",
     "status": "completed"
    },
    "tags": []
   },
   "source": [
    "#### OK. Let's ask the following obvious question. **Why do we need algorithms in the Machine Learning?**"
   ]
  },
  {
   "cell_type": "markdown",
   "id": "805eb18e",
   "metadata": {
    "papermill": {
     "duration": 0.024476,
     "end_time": "2021-07-31T12:11:07.670001",
     "exception": false,
     "start_time": "2021-07-31T12:11:07.645525",
     "status": "completed"
    },
    "tags": []
   },
   "source": [
    "#### As we have mentioned in our first notebook   [BIAS & VARIANCE TRADEOFF](https://www.kaggle.com/kaanboke/ml-basics-bias-variance-tradeoff), basically, in the Supervised Learning, we aim to build a model on the training data, which can make a prediction on the target variable.\n",
    "\n",
    "\n",
    "#### Since we constantly learn from the training data and make a prediction on the target variable, we need repetable procedures to perform this task.\n",
    "\n",
    "#### Accomplishing the task of learning data and make the best prediction on the test /unseen data is not an easy task. Machine learning algorithms try to succeed this task with the best prediction."
   ]
  },
  {
   "cell_type": "markdown",
   "id": "f83ae535",
   "metadata": {
    "papermill": {
     "duration": 0.023232,
     "end_time": "2021-07-31T12:11:07.717455",
     "exception": false,
     "start_time": "2021-07-31T12:11:07.694223",
     "status": "completed"
    },
    "tags": []
   },
   "source": [
    "#### OK. Let's tell the truth. \n",
    "\n",
    "#### Most of our times goes to improve our predictions and try to improve the performance of our models.\n",
    "\n",
    "#### Since we don't know which algorithm or model works best, we have to try different algorithms on the task.\n",
    "\n",
    "#### Before moving on to the details of the algorithms, we have to remember that \n",
    "\n",
    "#### Main aim of the any algorithm is to achieve **low bias** and **low variance**."
   ]
  },
  {
   "cell_type": "markdown",
   "id": "a80a6817",
   "metadata": {
    "papermill": {
     "duration": 0.023181,
     "end_time": "2021-07-31T12:11:07.762771",
     "exception": false,
     "start_time": "2021-07-31T12:11:07.739590",
     "status": "completed"
    },
    "tags": []
   },
   "source": [
    "![](https://i.pinimg.com/originals/90/00/c0/9000c0e50e1a97d0d12e85dc93affa5f.png)"
   ]
  },
  {
   "cell_type": "markdown",
   "id": "f56eede5",
   "metadata": {
    "papermill": {
     "duration": 0.022851,
     "end_time": "2021-07-31T12:11:07.808196",
     "exception": false,
     "start_time": "2021-07-31T12:11:07.785345",
     "status": "completed"
    },
    "tags": []
   },
   "source": [
    "Image Credit: www.pinterest.com"
   ]
  },
  {
   "cell_type": "markdown",
   "id": "1cfb59a4",
   "metadata": {
    "papermill": {
     "duration": 0.02178,
     "end_time": "2021-07-31T12:11:07.853544",
     "exception": false,
     "start_time": "2021-07-31T12:11:07.831764",
     "status": "completed"
    },
    "tags": []
   },
   "source": [
    "<font color=\"lightseagreen\" size=+2.5><b>Linear Regression</b></font>\n",
    "\n",
    "#### Linear regression assumes linear relationship between input and the target variables.\n",
    "\n",
    "#### Linear regression predicts continuous target variable.\n",
    "\n",
    "#### Model calculates distance from each isntance / data to the regression line and seeks to minimize it."
   ]
  },
  {
   "cell_type": "markdown",
   "id": "8cb20463",
   "metadata": {
    "papermill": {
     "duration": 0.023401,
     "end_time": "2021-07-31T12:11:07.900010",
     "exception": false,
     "start_time": "2021-07-31T12:11:07.876609",
     "status": "completed"
    },
    "tags": []
   },
   "source": [
    "![](https://sebastianraschka.com/images/faq/closed-form-vs-gd/simple_regression.png)"
   ]
  },
  {
   "cell_type": "markdown",
   "id": "3abb254d",
   "metadata": {
    "papermill": {
     "duration": 0.024216,
     "end_time": "2021-07-31T12:11:07.948994",
     "exception": false,
     "start_time": "2021-07-31T12:11:07.924778",
     "status": "completed"
    },
    "tags": []
   },
   "source": [
    "Image Credit: www.sebastianraschka.com"
   ]
  },
  {
   "cell_type": "markdown",
   "id": "4edab2d1",
   "metadata": {
    "papermill": {
     "duration": 0.024272,
     "end_time": "2021-07-31T12:11:07.998138",
     "exception": false,
     "start_time": "2021-07-31T12:11:07.973866",
     "status": "completed"
    },
    "tags": []
   },
   "source": [
    "![](https://image.slidesharecdn.com/supervisedmachinelearning-190319212812/95/supervised-machine-learning-part-1-linear-regression-code-heroku-9-638.jpg?cb=1553031086)"
   ]
  },
  {
   "cell_type": "markdown",
   "id": "72cf4cc1",
   "metadata": {
    "papermill": {
     "duration": 0.024947,
     "end_time": "2021-07-31T12:11:08.048692",
     "exception": false,
     "start_time": "2021-07-31T12:11:08.023745",
     "status": "completed"
    },
    "tags": []
   },
   "source": [
    "image Credit: www.codeheroku.com"
   ]
  },
  {
   "cell_type": "markdown",
   "id": "1f6bad15",
   "metadata": {
    "papermill": {
     "duration": 0.023094,
     "end_time": "2021-07-31T12:11:08.095734",
     "exception": false,
     "start_time": "2021-07-31T12:11:08.072640",
     "status": "completed"
    },
    "tags": []
   },
   "source": [
    "<font color=\"red\" size=+2.5><b>Rule of Thumbs</b></font>\n",
    "\n",
    "#### Linear Regression assumes linear relationships between input and target variables.\n",
    "\n",
    "#### Linear Regression expect data are not so noisy and target variable does not have outliers (I know, that's not always possible, but better to think)\n",
    "\n",
    "#### Linear Regression assumes lower level correlation between input variables, if there is high level correlation between the input variables, it cause overfitting and better the remove one of the highly correlated input from the model.\n",
    "\n",
    "#### Linear Regression assumes Normal Distribution ( lower level skewness) of the variables.\n",
    "\n"
   ]
  },
  {
   "cell_type": "markdown",
   "id": "a5230d20",
   "metadata": {
    "papermill": {
     "duration": 0.024547,
     "end_time": "2021-07-31T12:11:08.144450",
     "exception": false,
     "start_time": "2021-07-31T12:11:08.119903",
     "status": "completed"
    },
    "tags": []
   },
   "source": [
    "<font color=\"lightseagreen\" size=+2.5><b>Logistic Regression</b></font>\n",
    "\n",
    "#### Logistic regression is used for binary classifications (benign / malignant & fraud & not fraud, etc.).\n",
    "\n",
    "#### Logistic regression predicts categorical target variable."
   ]
  },
  {
   "cell_type": "markdown",
   "id": "071bcac2",
   "metadata": {
    "papermill": {
     "duration": 0.023545,
     "end_time": "2021-07-31T12:11:08.192404",
     "exception": false,
     "start_time": "2021-07-31T12:11:08.168859",
     "status": "completed"
    },
    "tags": []
   },
   "source": [
    "![](https://static.javatpoint.com/tutorial/machine-learning/images/logistic-regression-in-machine-learning.png)"
   ]
  },
  {
   "cell_type": "markdown",
   "id": "6b65ceef",
   "metadata": {
    "papermill": {
     "duration": 0.022443,
     "end_time": "2021-07-31T12:11:08.238190",
     "exception": false,
     "start_time": "2021-07-31T12:11:08.215747",
     "status": "completed"
    },
    "tags": []
   },
   "source": [
    "Image Credit: www.javatpoint.com"
   ]
  },
  {
   "cell_type": "markdown",
   "id": "25b98f10",
   "metadata": {
    "papermill": {
     "duration": 0.023298,
     "end_time": "2021-07-31T12:11:08.284208",
     "exception": false,
     "start_time": "2021-07-31T12:11:08.260910",
     "status": "completed"
    },
    "tags": []
   },
   "source": [
    "#### Let's imagine above graph is the binary classification of the spam e-mail detection. \n",
    "#### And let's say 0 represents 'Not Spam'  and 1 represents 'Spam'\n",
    "#### Above the threshold value (.5) belongs to the 'Spam' e-mail category\n",
    "#### Below the threshold value (.5) belongs to the 'Not Spam- Genuine E-mail' category."
   ]
  },
  {
   "cell_type": "markdown",
   "id": "f1e65e53",
   "metadata": {
    "papermill": {
     "duration": 0.024524,
     "end_time": "2021-07-31T12:11:08.331873",
     "exception": false,
     "start_time": "2021-07-31T12:11:08.307349",
     "status": "completed"
    },
    "tags": []
   },
   "source": [
    "![](https://files.realpython.com/media/log-reg-8.3d1dab72e105.png)"
   ]
  },
  {
   "cell_type": "markdown",
   "id": "3648965f",
   "metadata": {
    "papermill": {
     "duration": 0.022767,
     "end_time": "2021-07-31T12:11:08.379148",
     "exception": false,
     "start_time": "2021-07-31T12:11:08.356381",
     "status": "completed"
    },
    "tags": []
   },
   "source": [
    "Image Credit: https://realpython.com/"
   ]
  },
  {
   "cell_type": "markdown",
   "id": "64be0b84",
   "metadata": {
    "papermill": {
     "duration": 0.02291,
     "end_time": "2021-07-31T12:11:08.424554",
     "exception": false,
     "start_time": "2021-07-31T12:11:08.401644",
     "status": "completed"
    },
    "tags": []
   },
   "source": [
    "<font color=\"red\" size=+2.5><b>Rule of Thumbs</b></font>\n",
    "\n",
    "#### Logistic Regression expects binary target variable.\n",
    "\n",
    "#### Logistic Regression assumes linear relationships between input and target variables.\n",
    "\n",
    "#### Logistic Regression expect data are not so noisy and target variable does not have outliers\n",
    "\n",
    "#### Logistic Regression assumes lower level correlation between input variables, if there is high level correlation between the input variables, it cause overfitting and better the remove one of the highly correlated input from the model.\n",
    "\n",
    "#### Logistic Regression assumes Normal Distribution ( lower level skewness) of the variables.\n",
    "\n"
   ]
  },
  {
   "cell_type": "markdown",
   "id": "68f5f1e2",
   "metadata": {
    "papermill": {
     "duration": 0.024067,
     "end_time": "2021-07-31T12:11:08.471208",
     "exception": false,
     "start_time": "2021-07-31T12:11:08.447141",
     "status": "completed"
    },
    "tags": []
   },
   "source": [
    "#### Let's see the difference between Linear Regression and Logistic Regression on the below image."
   ]
  },
  {
   "cell_type": "markdown",
   "id": "69d97674",
   "metadata": {
    "papermill": {
     "duration": 0.021686,
     "end_time": "2021-07-31T12:11:08.515653",
     "exception": false,
     "start_time": "2021-07-31T12:11:08.493967",
     "status": "completed"
    },
    "tags": []
   },
   "source": [
    "![](https://static.javatpoint.com/tutorial/machine-learning/images/linear-regression-vs-logistic-regression.png)"
   ]
  },
  {
   "cell_type": "markdown",
   "id": "4c2cc5fe",
   "metadata": {
    "papermill": {
     "duration": 0.023716,
     "end_time": "2021-07-31T12:11:08.562261",
     "exception": false,
     "start_time": "2021-07-31T12:11:08.538545",
     "status": "completed"
    },
    "tags": []
   },
   "source": [
    "Image Credit: www.javatpoint.com"
   ]
  },
  {
   "cell_type": "markdown",
   "id": "405316ad",
   "metadata": {
    "papermill": {
     "duration": 0.02232,
     "end_time": "2021-07-31T12:11:08.607378",
     "exception": false,
     "start_time": "2021-07-31T12:11:08.585058",
     "status": "completed"
    },
    "tags": []
   },
   "source": [
    "<font color=\"lightseagreen\" size=+2.5><b>Linear Discriminant Analysis (LDA)</b></font>\n",
    "\n",
    "#### Linear Discriminant Analysis (LDA) is used for more than two classes classifications. LDA also is used in the binary classification problems.\n",
    "\n",
    "#### LDA predicts categorical target variable."
   ]
  },
  {
   "cell_type": "markdown",
   "id": "309a4592",
   "metadata": {
    "papermill": {
     "duration": 0.022393,
     "end_time": "2021-07-31T12:11:08.652283",
     "exception": false,
     "start_time": "2021-07-31T12:11:08.629890",
     "status": "completed"
    },
    "tags": []
   },
   "source": [
    "![](https://miro.medium.com/max/1390/1*639EfjXxfJqL9wTwIy7aNg.png)"
   ]
  },
  {
   "cell_type": "markdown",
   "id": "f519eaa4",
   "metadata": {
    "papermill": {
     "duration": 0.023451,
     "end_time": "2021-07-31T12:11:08.698103",
     "exception": false,
     "start_time": "2021-07-31T12:11:08.674652",
     "status": "completed"
    },
    "tags": []
   },
   "source": [
    "Image Credit: https://laptrinhx.com/"
   ]
  },
  {
   "cell_type": "markdown",
   "id": "ada75c67",
   "metadata": {
    "papermill": {
     "duration": 0.023119,
     "end_time": "2021-07-31T12:11:08.744401",
     "exception": false,
     "start_time": "2021-07-31T12:11:08.721282",
     "status": "completed"
    },
    "tags": []
   },
   "source": [
    "<font color=\"red\" size=+2.5><b>Rule of Thumbs</b></font>\n",
    "\n",
    "#### LDA works both with binary  and multi class target variable.\n",
    "#### LDA assumes linear relationships between input and target variables.\n",
    "#### LDA expect data are not so noisy and target variable does not have outliers, good idea to remove outliers.\n",
    "#### LDA assumes same variance in the input variables.\n",
    "#### LDA assumes Normal Distribution ( lower level skewness) of the variables."
   ]
  },
  {
   "cell_type": "markdown",
   "id": "297f7c3d",
   "metadata": {
    "papermill": {
     "duration": 0.023464,
     "end_time": "2021-07-31T12:11:08.792350",
     "exception": false,
     "start_time": "2021-07-31T12:11:08.768886",
     "status": "completed"
    },
    "tags": []
   },
   "source": [
    "<font color=\"darkblue\" size=+2.5><b>SUGGESTIONS</b></font>\n",
    "\n",
    "#### When choosing the algorithms, take into consideration the followings:\n",
    "\n",
    "   - How our algorithm accurate to predict the outcome ?\n",
    "   - How long does training take ?\n",
    "   - Does our algorithm easy to implement?\n",
    "\n",
    "\n",
    "#### First focus on the getting result and get familiar with the data.\n",
    "\n",
    "\n",
    "#### After getting familiar with the data, try to use different algorithms to improve accuracy.\n",
    "\n",
    "\n",
    "Reference: https://blogs.sas.com/content/subconsciousmusings/2020/12/09/machine-learning-algorithm-use/"
   ]
  },
  {
   "cell_type": "markdown",
   "id": "92be6ac6",
   "metadata": {
    "papermill": {
     "duration": 0.022346,
     "end_time": "2021-07-31T12:11:08.838373",
     "exception": false,
     "start_time": "2021-07-31T12:11:08.816027",
     "status": "completed"
    },
    "tags": []
   },
   "source": [
    "#### Let's see the top prediction algorithms in the cheat sheet.\n",
    "\n",
    "#### In this notebook we have covered the linear algorithms."
   ]
  },
  {
   "cell_type": "markdown",
   "id": "29d09849",
   "metadata": {
    "papermill": {
     "duration": 0.023147,
     "end_time": "2021-07-31T12:11:08.884107",
     "exception": false,
     "start_time": "2021-07-31T12:11:08.860960",
     "status": "completed"
    },
    "tags": []
   },
   "source": [
    "![](https://miro.medium.com/max/875/1*05DngXXh_tH1RHF5UaXWjA.jpeg)"
   ]
  },
  {
   "cell_type": "markdown",
   "id": "d0de6d90",
   "metadata": {
    "papermill": {
     "duration": 0.023599,
     "end_time": "2021-07-31T12:11:08.931665",
     "exception": false,
     "start_time": "2021-07-31T12:11:08.908066",
     "status": "completed"
    },
    "tags": []
   },
   "source": [
    "Image Credit : www.dataiku.com"
   ]
  },
  {
   "cell_type": "markdown",
   "id": "0950307e",
   "metadata": {
    "papermill": {
     "duration": 0.022831,
     "end_time": "2021-07-31T12:11:08.977896",
     "exception": false,
     "start_time": "2021-07-31T12:11:08.955065",
     "status": "completed"
    },
    "tags": []
   },
   "source": [
    "#### In this study, we focus on the **LINEAR ALGORITHMS**.\n",
    "\n",
    "#### After finishing the beginner-friendly explanation series, I will publish ML algorithms in action.\n",
    "\n",
    "\n",
    "#### By the way, when you like the topic, you can show it by supporting 👍\n",
    "\n",
    " #### All the best 🤘"
   ]
  },
  {
   "cell_type": "markdown",
   "id": "b60cb996",
   "metadata": {
    "papermill": {
     "duration": 0.024971,
     "end_time": "2021-07-31T12:11:09.026630",
     "exception": false,
     "start_time": "2021-07-31T12:11:09.001659",
     "status": "completed"
    },
    "tags": []
   },
   "source": [
    "<font color=\"darkblue\" size=+1.5><b>Further Reading</b></font>\n",
    "\n",
    "[Machine Learning - Beginner &Intermediate-Friendly BOOKS](https://www.kaggle.com/general/255972)\n",
    "\n"
   ]
  },
  {
   "cell_type": "markdown",
   "id": "e9e9fd83",
   "metadata": {
    "papermill": {
     "duration": 0.02351,
     "end_time": "2021-07-31T12:11:09.075057",
     "exception": false,
     "start_time": "2021-07-31T12:11:09.051547",
     "status": "completed"
    },
    "tags": []
   },
   "source": [
    "<font color=\"darkblue\" size=+1.5><b>References:</b></font>\n",
    "\n",
    "\n",
    "- [Introduction to Machine Learning with Python](https://www.amazon.com/Introduction-Machine-Learning-Python-Scientists/dp/1449369413)\n",
    "\n",
    "- [Master Machine Learning Algorithms](https://machinelearningmastery.com/master-machine-learning-algorithms/)  "
   ]
  }
 ],
 "metadata": {
  "kernelspec": {
   "display_name": "Python 3",
   "language": "python",
   "name": "python3"
  },
  "language_info": {
   "codemirror_mode": {
    "name": "ipython",
    "version": 3
   },
   "file_extension": ".py",
   "mimetype": "text/x-python",
   "name": "python",
   "nbconvert_exporter": "python",
   "pygments_lexer": "ipython3",
   "version": "3.7.10"
  },
  "papermill": {
   "default_parameters": {},
   "duration": 13.766117,
   "end_time": "2021-07-31T12:11:09.915070",
   "environment_variables": {},
   "exception": null,
   "input_path": "__notebook__.ipynb",
   "output_path": "__notebook__.ipynb",
   "parameters": {},
   "start_time": "2021-07-31T12:10:56.148953",
   "version": "2.3.3"
  }
 },
 "nbformat": 4,
 "nbformat_minor": 5
}
